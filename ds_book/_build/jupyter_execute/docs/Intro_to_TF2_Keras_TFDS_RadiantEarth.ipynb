{
 "cells": [
  {
   "cell_type": "markdown",
   "metadata": {
    "id": "3wF5wszaj97Y"
   },
   "source": [
    "# TensorFlow 2 quickstart for geospatial cmoputer vision"
   ]
  },
  {
   "cell_type": "markdown",
   "metadata": {
    "id": "04QgGZc9bF5D"
   },
   "source": [
    "This short introduction uses [Keras](https://www.tensorflow.org/guide/keras/overview) to:\n",
    "\n",
    "1. Load a prebuilt geospatial dataset.\n",
    "1. Build a neural network machine learning model that classifies images.\n",
    "2. Train this neural network.\n",
    "3. Evaluate the accuracy of the model."
   ]
  },
  {
   "cell_type": "markdown",
   "metadata": {
    "id": "hiH7AC-NTniF"
   },
   "source": [
    "This tutorial is a [Google Colaboratory](https://colab.research.google.com/notebooks/welcome.ipynb) notebook. Python programs are run directly in the browser—a great way to learn and use TensorFlow. To follow this tutorial, run the notebook in Google Colab by clicking the button at the top of this page."
   ]
  },
  {
   "cell_type": "code",
   "execution_count": 1,
   "metadata": {
    "colab": {
     "base_uri": "https://localhost:8080/"
    },
    "id": "CB7fVJbEba8D",
    "outputId": "6e17c550-7047-4ee4-c065-86d7e097556e"
   },
   "outputs": [
    {
     "name": "stdout",
     "output_type": "stream",
     "text": [
      "\u001b[2K     \u001b[90m━━━━━━━━━━━━━━━━━━━━━━━━━━━━━━━━━━━━━━━━\u001b[0m \u001b[32m21.3/21.3 MB\u001b[0m \u001b[31m44.4 MB/s\u001b[0m eta \u001b[36m0:00:00\u001b[0m\n",
      "\u001b[2K     \u001b[90m━━━━━━━━━━━━━━━━━━━━━━━━━━━━━━━━━━━━━━━━\u001b[0m \u001b[32m52.1/52.1 kB\u001b[0m \u001b[31m4.9 MB/s\u001b[0m eta \u001b[36m0:00:00\u001b[0m\n",
      "\u001b[2K     \u001b[90m━━━━━━━━━━━━━━━━━━━━━━━━━━━━━━━━━━━━━━━━\u001b[0m \u001b[32m12.0/12.0 MB\u001b[0m \u001b[31m60.3 MB/s\u001b[0m eta \u001b[36m0:00:00\u001b[0m\n",
      "\u001b[2K     \u001b[90m━━━━━━━━━━━━━━━━━━━━━━━━━━━━━━━━━━━━━━\u001b[0m \u001b[32m137.4/137.4 kB\u001b[0m \u001b[31m15.8 MB/s\u001b[0m eta \u001b[36m0:00:00\u001b[0m\n",
      "\u001b[2K     \u001b[90m━━━━━━━━━━━━━━━━━━━━━━━━━━━━━━━━━━━━━━━━\u001b[0m \u001b[32m2.0/2.0 MB\u001b[0m \u001b[31m78.2 MB/s\u001b[0m eta \u001b[36m0:00:00\u001b[0m\n",
      "\u001b[2K     \u001b[90m━━━━━━━━━━━━━━━━━━━━━━━━━━━━━━━━━━━━━━━━\u001b[0m \u001b[32m78.5/78.5 kB\u001b[0m \u001b[31m8.6 MB/s\u001b[0m eta \u001b[36m0:00:00\u001b[0m\n",
      "\u001b[?25h"
     ]
    }
   ],
   "source": [
    "# install required libraries\n",
    "!pip install -q rasterio\n",
    "!pip install -q geopandas\n",
    "!pip install -q radiant_mlhub # for dataset access, see: https://mlhub.earth/"
   ]
  },
  {
   "cell_type": "code",
   "execution_count": 2,
   "metadata": {
    "id": "uGN2DG_DcVrp"
   },
   "outputs": [],
   "source": [
    "import os, glob, functools, fnmatch, io, shutil, tarfile, json\n",
    "from zipfile import ZipFile\n",
    "from itertools import product\n",
    "from pathlib import Path\n",
    "import urllib.request\n",
    "from radiant_mlhub import Dataset\n",
    "from radiant_mlhub import Dataset, client, get_session, Collection\n",
    "import pandas as pd\n",
    "from sklearn.model_selection import train_test_split\n",
    "from PIL import Image\n",
    "import numpy as np\n",
    "import tensorflow_datasets as tfds"
   ]
  },
  {
   "cell_type": "markdown",
   "metadata": {
    "id": "nnrWf3PCEzXL"
   },
   "source": [
    "## Set up TensorFlow\n",
    "\n",
    "Import TensorFlow into your program to get started:"
   ]
  },
  {
   "cell_type": "code",
   "execution_count": 11,
   "metadata": {
    "colab": {
     "base_uri": "https://localhost:8080/"
    },
    "id": "0trJmd6DjqBZ",
    "outputId": "053ce81c-14bb-4e20-d8e2-14167fcc2661"
   },
   "outputs": [
    {
     "name": "stdout",
     "output_type": "stream",
     "text": [
      "TensorFlow version: 2.12.0\n"
     ]
    }
   ],
   "source": [
    "import tensorflow as tf\n",
    "print(\"TensorFlow version:\", tf.__version__)"
   ]
  },
  {
   "cell_type": "markdown",
   "metadata": {
    "id": "7NAbSZiaoJ4z"
   },
   "source": [
    "## Load a dataset\n",
    "\n",
    "Load and prepare the [Drone Imagery Classification Training Dataset for Crop Types in Rwanda dataset from Radiant Earth](https://mlhub.earth/data/rti_rwanda_crop_type). You'll need a Radiant Earth MLHub API key for this."
   ]
  },
  {
   "cell_type": "code",
   "execution_count": null,
   "metadata": {
    "id": "7TdKCX7BbzPt"
   },
   "outputs": [],
   "source": [
    "# configure Radiant Earth MLHub access\n",
    "!mlhub configure"
   ]
  },
  {
   "cell_type": "code",
   "execution_count": 5,
   "metadata": {
    "colab": {
     "base_uri": "https://localhost:8080/"
    },
    "id": "9G2PGwQ6bXaM",
    "outputId": "eff92488-c321-4b20-82b8-c20cb8c0edd3"
   },
   "outputs": [
    {
     "name": "stdout",
     "output_type": "stream",
     "text": [
      "rti_rwanda_crop_type_labels\n",
      "rti_rwanda_crop_type_source\n",
      "rti_rwanda_crop_type_raw\n"
     ]
    }
   ],
   "source": [
    "ds = Dataset.fetch('rti_rwanda_crop_type')\n",
    "for c in ds.collections:\n",
    "    print(c.id)\n"
   ]
  },
  {
   "cell_type": "code",
   "execution_count": 6,
   "metadata": {
    "colab": {
     "base_uri": "https://localhost:8080/"
    },
    "id": "SQkDlleGb-0T",
    "outputId": "e5d920c4-9d25-4bca-f524-a63dfec40ffc"
   },
   "outputs": [
    {
     "name": "stdout",
     "output_type": "stream",
     "text": [
      "Mounted at /content/gdrive\n"
     ]
    }
   ],
   "source": [
    "# Mount google drive.\n",
    "from google.colab import drive\n",
    "drive.mount('/content/gdrive')"
   ]
  },
  {
   "cell_type": "code",
   "execution_count": 9,
   "metadata": {
    "colab": {
     "base_uri": "https://localhost:8080/"
    },
    "id": "UrrIbHzwcLwu",
    "outputId": "f21dd27b-28e4-4cac-dbfa-5664f005ef5d"
   },
   "outputs": [
    {
     "name": "stdout",
     "output_type": "stream",
     "text": [
      "Drive already mounted at /content/gdrive; to attempt to forcibly remount, call drive.mount(\"/content/gdrive\", force_remount=True).\n",
      "Running on Colab\n"
     ]
    }
   ],
   "source": [
    "# set your root directory and tiled data folders\n",
    "if 'google.colab' in str(get_ipython()):\n",
    "    # mount google drive\n",
    "    from google.colab import drive\n",
    "    drive.mount('/content/gdrive')\n",
    "    root_dir = '/content/gdrive/My Drive/tf-eo-devseed-2/'\n",
    "    workshop_dir = '/content/gdrive/My Drive/tf-eo-devseed-workshop-2'\n",
    "    dirs = [root_dir, workshop_dir]\n",
    "    for d in dirs:\n",
    "        if not os.path.exists(d):\n",
    "            os.makedirs(d)\n",
    "    print('Running on Colab')\n",
    "else:\n",
    "    root_dir = os.path.abspath(\"./data/tf-eo-devseed-2\")\n",
    "    workshop_dir = os.path.abspath('./tf-eo-devseed-workshop-2')\n",
    "    print(f'Not running on Colab, data needs to be downloaded locally at {os.path.abspath(root_dir)}')\n"
   ]
  },
  {
   "cell_type": "code",
   "execution_count": null,
   "metadata": {
    "id": "2wkfndGzcci7"
   },
   "outputs": [],
   "source": [
    "%cd $root_dir"
   ]
  },
  {
   "cell_type": "code",
   "execution_count": 19,
   "metadata": {
    "colab": {
     "base_uri": "https://localhost:8080/",
     "height": 315,
     "referenced_widgets": [
      "22bac9967ab44c29b3dde71615923fd7",
      "706a7aa97f824467afa172c26118a74f",
      "550f822c71834bc693c2e388ac889c52",
      "aa7778c01bb34450abf7e82046a21464",
      "59dbf57a5b4145b6b2933835095697bf",
      "57c7e8a0c8e94b06a83da2e486108bab",
      "8590de1a139543c3a3488dfbde6bd76b",
      "3a4f8326a186498abd66dde7de3fc5c5",
      "40669f968394464d8229bb116446cdaa",
      "63998809fc644c7a89f7c0ef89c00672",
      "81849272dd164f4fa7bb5f10ddab9344",
      "38bb0b2fe2b54a78868f10050d4dd4b0",
      "d6abd5a8b5fd4649b5e0a7c0a115e463",
      "cedcf42aa36543f8a4bb30e8e3d30f34",
      "240dfed21dc243d4924bb1499d831f16",
      "faa3c7f677dc4cc382b4ab0163c8a180",
      "23fb3737070f4bc0aab2ab40d346318a",
      "281be11a4df74da7b3ab94f6d85cca05",
      "9d32cd7603c142349d3ba14227daaee1",
      "c33277eb55de470ab4abcf65dce5afa7",
      "7d10bf4cdc0a43ed88b18383cf9ec058",
      "b0b25a9724fd4bbb92da8841b330a5a1"
     ]
    },
    "id": "6ZQ3mrTEcihQ",
    "outputId": "0b1eadc6-d4b1-4b68-9c03-b4f4c3f4a60a"
   },
   "outputs": [
    {
     "name": "stdout",
     "output_type": "stream",
     "text": [
      "Downloading rti_rwanda_crop_type_labels...\n"
     ]
    },
    {
     "data": {
      "application/vnd.jupyter.widget-view+json": {
       "model_id": "22bac9967ab44c29b3dde71615923fd7",
       "version_major": 2,
       "version_minor": 0
      },
      "text/plain": [
       "  0%|          | 0/0.8 [00:00<?, ?M/s]"
      ]
     },
     "metadata": {},
     "output_type": "display_data"
    },
    {
     "name": "stdout",
     "output_type": "stream",
     "text": [
      "Downloading rti_rwanda_crop_type_source...\n"
     ]
    },
    {
     "data": {
      "application/vnd.jupyter.widget-view+json": {
       "model_id": "38bb0b2fe2b54a78868f10050d4dd4b0",
       "version_major": 2,
       "version_minor": 0
      },
      "text/plain": [
       "  0%|          | 0/104.5 [00:00<?, ?M/s]"
      ]
     },
     "metadata": {},
     "output_type": "display_data"
    },
    {
     "name": "stderr",
     "output_type": "stream",
     "text": [
      "WARNING:urllib3.connectionpool:Connection pool is full, discarding connection: radiantearth.blob.core.windows.net. Connection pool size: 10\n",
      "WARNING:urllib3.connectionpool:Connection pool is full, discarding connection: radiantearth.blob.core.windows.net. Connection pool size: 10\n",
      "WARNING:urllib3.connectionpool:Connection pool is full, discarding connection: radiantearth.blob.core.windows.net. Connection pool size: 10\n",
      "WARNING:urllib3.connectionpool:Connection pool is full, discarding connection: radiantearth.blob.core.windows.net. Connection pool size: 10\n",
      "WARNING:urllib3.connectionpool:Connection pool is full, discarding connection: radiantearth.blob.core.windows.net. Connection pool size: 10\n",
      "WARNING:urllib3.connectionpool:Connection pool is full, discarding connection: radiantearth.blob.core.windows.net. Connection pool size: 10\n",
      "WARNING:urllib3.connectionpool:Connection pool is full, discarding connection: radiantearth.blob.core.windows.net. Connection pool size: 10\n",
      "WARNING:urllib3.connectionpool:Connection pool is full, discarding connection: radiantearth.blob.core.windows.net. Connection pool size: 10\n",
      "WARNING:urllib3.connectionpool:Connection pool is full, discarding connection: radiantearth.blob.core.windows.net. Connection pool size: 10\n",
      "WARNING:urllib3.connectionpool:Connection pool is full, discarding connection: radiantearth.blob.core.windows.net. Connection pool size: 10\n"
     ]
    }
   ],
   "source": [
    "collections = [\n",
    "    'rti_rwanda_crop_type_labels',\n",
    "    'rti_rwanda_crop_type_source'\n",
    "]\n",
    "\n",
    "def download(collection_id):\n",
    "    print(f'Downloading {collection_id}...')\n",
    "    collection = Collection.fetch(collection_id)\n",
    "    path = collection.download('.')\n",
    "    tar = tarfile.open(path, \"r:gz\")\n",
    "    tar.extractall()\n",
    "    tar.close()\n",
    "    os.remove(path)\n",
    "\n",
    "def resolve_path(base, path):\n",
    "    return Path(os.path.join(base, path)).resolve()\n",
    "\n",
    "def load_df(collection_id):\n",
    "    collection = json.load(open(f'{collection_id}/collection.json', 'r'))\n",
    "    rows = []\n",
    "    item_links = []\n",
    "    for link in collection['links']:\n",
    "        if link['rel'] != 'item':\n",
    "            continue\n",
    "        item_links.append(link['href'])\n",
    "    for item_link in item_links:\n",
    "        item_path = f'{collection_id}/{item_link}'\n",
    "        current_path = os.path.dirname(item_path)\n",
    "        item = json.load(open(item_path, 'r'))\n",
    "        tile_id = item['id'].split('_')[-1]\n",
    "        for asset_key, asset in item['assets'].items():\n",
    "            rows.append([\n",
    "                tile_id,\n",
    "                None,\n",
    "                None,\n",
    "                asset_key,\n",
    "                str(resolve_path(current_path, asset['href']))\n",
    "            ])\n",
    "\n",
    "        for link in item['links']:\n",
    "            if link['rel'] != 'source':\n",
    "                continue\n",
    "            link_path = resolve_path(current_path, link['href'])\n",
    "            source_path = os.path.dirname(link_path)\n",
    "            try:\n",
    "                source_item = json.load(open(link_path, 'r'))\n",
    "            except FileNotFoundError:\n",
    "                continue\n",
    "            datetime = source_item['properties']['datetime']\n",
    "            satellite_platform = source_item['collection'].split('_')[-1]\n",
    "            for asset_key, asset in source_item['assets'].items():\n",
    "                rows.append([\n",
    "                    tile_id,\n",
    "                    datetime,\n",
    "                    satellite_platform,\n",
    "                    asset_key,\n",
    "                    str(resolve_path(source_path, asset['href']))\n",
    "                ])\n",
    "    return pd.DataFrame(rows, columns=['tile_id', 'datetime', 'satellite_platform', 'asset', 'file_path'])\n",
    "\n",
    "for c in collections:\n",
    "    download(c)\n",
    "\n",
    "train_df = load_df('rti_rwanda_crop_type_labels')\n",
    "#test_df = load_df('rti_rwanda_crop_type_labels')"
   ]
  },
  {
   "cell_type": "code",
   "execution_count": 158,
   "metadata": {
    "colab": {
     "base_uri": "https://localhost:8080/"
    },
    "id": "ged41qF5fTDf",
    "outputId": "f61340fe-a255-4712-e4a5-8bca85c209f7"
   },
   "outputs": [
    {
     "name": "stdout",
     "output_type": "stream",
     "text": [
      "  class_names  class_ids\n",
      "0       other          0\n",
      "1      banana          1\n",
      "2       maize          2\n",
      "3     legumes          3\n",
      "4      forest          4\n",
      "5   structure          5\n"
     ]
    }
   ],
   "source": [
    "# Read the classes\n",
    "pd.set_option('display.max_colwidth', None)\n",
    "\n",
    "data = {'class_names':  ['other', 'banana', 'maize', 'legumes', 'forest', 'structure'],\n",
    "        'class_ids': [0, 1, 2, 3, 4, 5]\n",
    "        }\n",
    "\n",
    "classes = pd.DataFrame(data)\n",
    "print(classes)\n",
    "\n",
    "classes.to_csv('rti_rwanda_crop_type_classes.csv')"
   ]
  },
  {
   "cell_type": "code",
   "execution_count": 42,
   "metadata": {
    "id": "98y_TMJwlNBV"
   },
   "outputs": [],
   "source": [
    "train_df_labels = train_df.loc[train_df['asset'] == 'labels']"
   ]
  },
  {
   "cell_type": "code",
   "execution_count": 43,
   "metadata": {
    "id": "iQbHIO1mhOgc"
   },
   "outputs": [],
   "source": [
    "data_train, data_test = train_test_split(train_df_labels, test_size=0.3, random_state=1)"
   ]
  },
  {
   "cell_type": "code",
   "execution_count": 44,
   "metadata": {
    "colab": {
     "base_uri": "https://localhost:8080/"
    },
    "id": "fN6xVJWYh2yE",
    "outputId": "70261c7a-595d-4977-8574-82234613d93c"
   },
   "outputs": [
    {
     "data": {
      "text/plain": [
       "(1824, 782)"
      ]
     },
     "execution_count": 44,
     "metadata": {},
     "output_type": "execute_result"
    }
   ],
   "source": [
    "len(data_train), len(data_test)"
   ]
  },
  {
   "cell_type": "code",
   "execution_count": 180,
   "metadata": {
    "id": "STp8HJ0dl_Mv"
   },
   "outputs": [],
   "source": [
    "train_image_arrays = []\n",
    "train_label_integers = []\n",
    "for i, r in data_train.iterrows():\n",
    "  label_path = r.file_path\n",
    "  with open(label_path) as f:\n",
    "    label_obj = json.load(f)\n",
    "  label_str = label_obj['label']\n",
    "  label_int = classes.loc[classes['class_names'] == label_str, 'class_ids'].squeeze()\n",
    "  train_label_integers.append(label_int)\n",
    "  image_path = label_path.replace('labels', 'source')\n",
    "  image_path = image_path.replace('source.json', '')\n",
    "  image_obj = np.array(Image.open(f\"{image_path}/image.png\"))\n",
    "  train_image_arrays.append(image_obj)\n",
    "\n"
   ]
  },
  {
   "cell_type": "code",
   "execution_count": 182,
   "metadata": {
    "id": "p6xKWjr7nrTW"
   },
   "outputs": [],
   "source": [
    "test_image_arrays = []\n",
    "test_label_integers = []\n",
    "for i, r in data_test.iterrows():\n",
    "  label_path = r.file_path\n",
    "  with open(label_path) as f:\n",
    "    label_obj = json.load(f)\n",
    "  label_str = label_obj['label']\n",
    "  label_int = classes.loc[classes['class_names'] == label_str, 'class_ids'].squeeze()\n",
    "  test_label_integers.append(label_int)\n",
    "  image_path = label_path.replace('labels', 'source')\n",
    "  image_path = image_path.replace('source.json', '')\n",
    "  image_obj = np.array(Image.open(f\"{image_path}/image.png\"))\n",
    "  test_image_arrays.append(image_obj)"
   ]
  },
  {
   "cell_type": "code",
   "execution_count": 183,
   "metadata": {
    "colab": {
     "base_uri": "https://localhost:8080/"
    },
    "id": "jyVgNxWD3wNq",
    "outputId": "b2877ce8-ac38-4232-99c5-12837719515e"
   },
   "outputs": [
    {
     "data": {
      "text/plain": [
       "({0, 1, 2, 3, 4, 5}, {0, 1, 2, 3, 4, 5})"
      ]
     },
     "execution_count": 183,
     "metadata": {},
     "output_type": "execute_result"
    }
   ],
   "source": [
    "set(train_label_integers), set(test_label_integers)"
   ]
  },
  {
   "cell_type": "code",
   "execution_count": 184,
   "metadata": {
    "id": "w2-hUSfKzjUk"
   },
   "outputs": [],
   "source": [
    "x_train, y_train = np.array(train_image_arrays), np.array(train_label_integers)\n",
    "x_test, y_test = np.array(test_image_arrays), np.array(test_label_integers)"
   ]
  },
  {
   "cell_type": "code",
   "execution_count": null,
   "metadata": {
    "id": "2U-3KH7az0tl"
   },
   "outputs": [],
   "source": [
    "x_test, y_test"
   ]
  },
  {
   "cell_type": "code",
   "execution_count": 19,
   "metadata": {
    "id": "yScjcfxr3qR6"
   },
   "outputs": [],
   "source": [
    "# Construct a tf.data.Dataset\n",
    "#train_dataset = tfds.load(name=\"eurosat\", split=tfds.Split.TRAIN)\n",
    "all_dataset = dataset\n",
    "#train_dataset_df = tfds.as_dataframe(train_dataset)\n",
    "#test_dataset_df = train_test_split(train_dataset_df, test_size=0.3, random_state=1)\n",
    "test_dataset = all_dataset.take(int(len(all_dataset)*0.3))\n",
    "train_dataset = all_dataset.skip(int(len(all_dataset)*0.3))\n",
    "\n",
    "# Build your input pipeline\n",
    "#dataset = dataset.shuffle(1024).batch(32).prefetch(tf.data.experimental.AUTOTUNE)\n",
    "train_image_arrays = []\n",
    "train_label_integers = []\n",
    "test_image_arrays = []\n",
    "test_label_integers = []\n",
    "for features in train_dataset.take(len(train_dataset)):\n",
    "  image, label = features[\"image\"], features[\"label\"]\n",
    "  #print(type(image), image)\n",
    "  #print(type(label), label)\n",
    "  train_image_arrays.append(image)\n",
    "  train_label_integers.append(label)\n",
    "\n",
    "for features in test_dataset.take(len(test_dataset)):\n",
    "  image, label = features[\"image\"], features[\"label\"]\n",
    "  #print(type(image), image)\n",
    "  #print(type(label), label)\n",
    "  test_image_arrays.append(image)\n",
    "  test_label_integers.append(label)\n",
    "\n",
    "#x_train, y_train = train_dataset[\"image\"], train_dataset[\"label\"] # seperate the x and y\n",
    "#x_test, y_test = test_dataset[\"image\"], test_dataset[\"label\"]\n",
    "x_train, y_train = np.array(train_image_arrays), np.array(train_label_integers)\n",
    "x_test, y_test = np.array(test_image_arrays), np.array(test_label_integers)"
   ]
  },
  {
   "cell_type": "code",
   "execution_count": null,
   "metadata": {
    "id": "XYi8wD1e9Sct"
   },
   "outputs": [],
   "source": [
    "set(train_label_integers), set(test_label_integers)"
   ]
  },
  {
   "cell_type": "markdown",
   "metadata": {
    "id": "BPZ68wASog_I"
   },
   "source": [
    "## Build a machine learning model\n",
    "\n",
    "Build a `tf.keras.Sequential` model:"
   ]
  },
  {
   "cell_type": "code",
   "execution_count": 26,
   "metadata": {
    "id": "h3IKyzTCDNGo"
   },
   "outputs": [],
   "source": [
    "model = tf.keras.models.Sequential([\n",
    "  tf.keras.layers.Flatten(input_shape=(64, 64, 3)), #200, 200, 3)),\n",
    "  tf.keras.layers.Dense(128, activation='relu'),\n",
    "  tf.keras.layers.Dropout(0.2),\n",
    "  tf.keras.layers.Dense(10)\n",
    "])"
   ]
  },
  {
   "cell_type": "markdown",
   "metadata": {
    "id": "l2hiez2eIUz8"
   },
   "source": [
    "[`Sequential`](https://www.tensorflow.org/guide/keras/sequential_model) is useful for stacking layers where each layer has one input [tensor](https://www.tensorflow.org/guide/tensor) and one output tensor. Layers are functions with a known mathematical structure that can be reused and have trainable variables. Most TensorFlow models are composed of layers. This model uses the [`Flatten`](https://www.tensorflow.org/api_docs/python/tf/keras/layers/Flatten), [`Dense`](https://www.tensorflow.org/api_docs/python/tf/keras/layers/Dense), and [`Dropout`](https://www.tensorflow.org/api_docs/python/tf/keras/layers/Dropout) layers.\n",
    "\n",
    "For each example, the model returns a vector of [logits](https://developers.google.com/machine-learning/glossary#logits) or [log-odds](https://developers.google.com/machine-learning/glossary#log-odds) scores, one for each class."
   ]
  },
  {
   "cell_type": "code",
   "execution_count": 27,
   "metadata": {
    "colab": {
     "base_uri": "https://localhost:8080/"
    },
    "id": "OeOrNdnkEEcR",
    "outputId": "ccaddd80-bc40-44e9-8bb9-f5611217d276"
   },
   "outputs": [
    {
     "data": {
      "text/plain": [
       "array([[ -40.767197,  -79.32184 ,  113.31708 ,   33.064262,   60.522034,\n",
       "        -104.23628 , -155.82251 ,  -15.079418,   17.857214,   34.78328 ]],\n",
       "      dtype=float32)"
      ]
     },
     "execution_count": 27,
     "metadata": {},
     "output_type": "execute_result"
    }
   ],
   "source": [
    "predictions = model(x_train[:1]).numpy()\n",
    "predictions"
   ]
  },
  {
   "cell_type": "markdown",
   "metadata": {
    "id": "tgjhDQGcIniO"
   },
   "source": [
    "The `tf.nn.softmax` function converts these logits to *probabilities* for each class:"
   ]
  },
  {
   "cell_type": "code",
   "execution_count": 28,
   "metadata": {
    "colab": {
     "base_uri": "https://localhost:8080/"
    },
    "id": "zWSRnQ0WI5eq",
    "outputId": "de228f37-84bd-482e-9cef-b2c7f75c165f"
   },
   "outputs": [
    {
     "data": {
      "text/plain": [
       "array([[0.0000000e+00, 0.0000000e+00, 1.0000000e+00, 1.4016681e-35,\n",
       "        1.1787013e-23, 0.0000000e+00, 0.0000000e+00, 0.0000000e+00,\n",
       "        0.0000000e+00, 7.8199647e-35]], dtype=float32)"
      ]
     },
     "execution_count": 28,
     "metadata": {},
     "output_type": "execute_result"
    }
   ],
   "source": [
    "tf.nn.softmax(predictions).numpy()"
   ]
  },
  {
   "cell_type": "markdown",
   "metadata": {
    "id": "he5u_okAYS4a"
   },
   "source": [
    "Note: It is possible to bake the `tf.nn.softmax` function into the activation function for the last layer of the network. While this can make the model output more directly interpretable, this approach is discouraged as it's impossible to provide an exact and numerically stable loss calculation for all models when using a softmax output."
   ]
  },
  {
   "cell_type": "markdown",
   "metadata": {
    "id": "hQyugpgRIyrA"
   },
   "source": [
    "Define a loss function for training using `losses.SparseCategoricalCrossentropy`:"
   ]
  },
  {
   "cell_type": "code",
   "execution_count": 29,
   "metadata": {
    "id": "RSkzdv8MD0tT"
   },
   "outputs": [],
   "source": [
    "loss_fn = tf.keras.losses.SparseCategoricalCrossentropy(from_logits=True)"
   ]
  },
  {
   "cell_type": "markdown",
   "metadata": {
    "id": "SfR4MsSDU880"
   },
   "source": [
    "The loss function takes a vector of ground truth values and a vector of logits and returns a scalar loss for each example. This loss is equal to the negative log probability of the true class: The loss is zero if the model is sure of the correct class.\n",
    "\n",
    "This untrained model gives probabilities close to random (1/6 for each class), so the initial loss should be close to `-tf.math.log(1/10)`."
   ]
  },
  {
   "cell_type": "code",
   "execution_count": 31,
   "metadata": {
    "colab": {
     "base_uri": "https://localhost:8080/"
    },
    "id": "NJWqEVrrJ7ZB",
    "outputId": "abeeaacf-bce4-4065-fd13-4d6fa53dd683"
   },
   "outputs": [
    {
     "data": {
      "text/plain": [
       "95.45986"
      ]
     },
     "execution_count": 31,
     "metadata": {},
     "output_type": "execute_result"
    }
   ],
   "source": [
    "loss_fn(y_train[:1], predictions).numpy()"
   ]
  },
  {
   "cell_type": "markdown",
   "metadata": {
    "id": "ada44eb947d4"
   },
   "source": [
    "Before you start training, configure and compile the model using Keras `Model.compile`. Set the [`optimizer`](https://www.tensorflow.org/api_docs/python/tf/keras/optimizers) class to `adam`, set the `loss` to the `loss_fn` function you defined earlier, and specify a metric to be evaluated for the model by setting the `metrics` parameter to `accuracy`."
   ]
  },
  {
   "cell_type": "code",
   "execution_count": 32,
   "metadata": {
    "id": "9foNKHzTD2Vo"
   },
   "outputs": [],
   "source": [
    "model.compile(optimizer='adam',\n",
    "              loss=loss_fn,\n",
    "              metrics=['accuracy'])"
   ]
  },
  {
   "cell_type": "markdown",
   "metadata": {
    "id": "ix4mEL65on-w"
   },
   "source": [
    "## Train and evaluate your model\n",
    "\n",
    "Use the `Model.fit` method to adjust your model parameters and minimize the loss:"
   ]
  },
  {
   "cell_type": "code",
   "execution_count": 33,
   "metadata": {
    "colab": {
     "base_uri": "https://localhost:8080/"
    },
    "id": "y7suUbJXVLqP",
    "outputId": "d6e2cf1c-83e5-4b77-eb16-4aed339925b0"
   },
   "outputs": [
    {
     "name": "stdout",
     "output_type": "stream",
     "text": [
      "Epoch 1/5\n",
      "591/591 [==============================] - 19s 30ms/step - loss: 26.9865 - accuracy: 0.1108\n",
      "Epoch 2/5\n",
      "591/591 [==============================] - 16s 27ms/step - loss: 2.2972 - accuracy: 0.1094\n",
      "Epoch 3/5\n",
      "591/591 [==============================] - 14s 24ms/step - loss: 2.2965 - accuracy: 0.1094\n",
      "Epoch 4/5\n",
      "591/591 [==============================] - 14s 24ms/step - loss: 2.2964 - accuracy: 0.1093\n",
      "Epoch 5/5\n",
      "591/591 [==============================] - 15s 26ms/step - loss: 2.2964 - accuracy: 0.1122\n"
     ]
    },
    {
     "data": {
      "text/plain": [
       "<keras.callbacks.History at 0x7f5f4e347430>"
      ]
     },
     "execution_count": 33,
     "metadata": {},
     "output_type": "execute_result"
    }
   ],
   "source": [
    "model.fit(x_train, y_train, epochs=5)"
   ]
  },
  {
   "cell_type": "markdown",
   "metadata": {
    "id": "4mDAAPFqVVgn"
   },
   "source": [
    "The `Model.evaluate` method checks the model's performance, usually on a [validation set](https://developers.google.com/machine-learning/glossary#validation-set) or [test set](https://developers.google.com/machine-learning/glossary#test-set)."
   ]
  },
  {
   "cell_type": "code",
   "execution_count": 34,
   "metadata": {
    "colab": {
     "base_uri": "https://localhost:8080/"
    },
    "id": "F7dTAzgHDUh7",
    "outputId": "d4a38e27-80b0-4ef1-dad9-758b1c1c5925"
   },
   "outputs": [
    {
     "name": "stdout",
     "output_type": "stream",
     "text": [
      "254/254 - 1s - loss: 2.2921 - accuracy: 0.1086 - 1s/epoch - 6ms/step\n"
     ]
    },
    {
     "data": {
      "text/plain": [
       "[2.292078733444214, 0.10864197462797165]"
      ]
     },
     "execution_count": 34,
     "metadata": {},
     "output_type": "execute_result"
    }
   ],
   "source": [
    "model.evaluate(x_test,  y_test, verbose=2)"
   ]
  },
  {
   "cell_type": "markdown",
   "metadata": {
    "id": "Aj8NrlzlJqDG"
   },
   "source": [
    "If you want your model to return a probability, you can wrap the trained model, and attach the softmax to it:"
   ]
  },
  {
   "cell_type": "code",
   "execution_count": 35,
   "metadata": {
    "id": "rYb6DrEH0GMv"
   },
   "outputs": [],
   "source": [
    "probability_model = tf.keras.Sequential([\n",
    "  model,\n",
    "  tf.keras.layers.Softmax()\n",
    "])"
   ]
  },
  {
   "cell_type": "code",
   "execution_count": 36,
   "metadata": {
    "colab": {
     "base_uri": "https://localhost:8080/"
    },
    "id": "cnqOZtUp1YR_",
    "outputId": "fd253072-a29c-49e3-cbb5-c1b8abb4c8c6"
   },
   "outputs": [
    {
     "data": {
      "text/plain": [
       "<tf.Tensor: shape=(5, 10), dtype=float32, numpy=\n",
       "array([[0.10704215, 0.11007525, 0.11094362, 0.09210668, 0.09329496,\n",
       "        0.0771283 , 0.09272404, 0.112649  , 0.09282223, 0.11121381],\n",
       "       [0.10704215, 0.11007525, 0.11094362, 0.09210668, 0.09329496,\n",
       "        0.0771283 , 0.09272404, 0.112649  , 0.09282223, 0.11121381],\n",
       "       [0.10704215, 0.11007525, 0.11094362, 0.09210668, 0.09329496,\n",
       "        0.0771283 , 0.09272404, 0.112649  , 0.09282223, 0.11121381],\n",
       "       [0.10704215, 0.11007525, 0.11094362, 0.09210668, 0.09329496,\n",
       "        0.0771283 , 0.09272404, 0.112649  , 0.09282223, 0.11121381],\n",
       "       [0.10704215, 0.11007525, 0.11094362, 0.09210668, 0.09329496,\n",
       "        0.0771283 , 0.09272404, 0.112649  , 0.09282222, 0.11121381]],\n",
       "      dtype=float32)>"
      ]
     },
     "execution_count": 36,
     "metadata": {},
     "output_type": "execute_result"
    }
   ],
   "source": [
    "probability_model(x_test[:5])"
   ]
  }
 ],
 "metadata": {
  "colab": {
   "provenance": [],
   "toc_visible": true
  },
  "kernelspec": {
   "display_name": "Python 3",
   "name": "python3"
  },
  "widgets": {
   "application/vnd.jupyter.widget-state+json": {
    "22bac9967ab44c29b3dde71615923fd7": {
     "model_module": "@jupyter-widgets/controls",
     "model_module_version": "1.5.0",
     "model_name": "HBoxModel",
     "state": {
      "_dom_classes": [],
      "_model_module": "@jupyter-widgets/controls",
      "_model_module_version": "1.5.0",
      "_model_name": "HBoxModel",
      "_view_count": null,
      "_view_module": "@jupyter-widgets/controls",
      "_view_module_version": "1.5.0",
      "_view_name": "HBoxView",
      "box_style": "",
      "children": [
       "IPY_MODEL_706a7aa97f824467afa172c26118a74f",
       "IPY_MODEL_550f822c71834bc693c2e388ac889c52",
       "IPY_MODEL_aa7778c01bb34450abf7e82046a21464"
      ],
      "layout": "IPY_MODEL_59dbf57a5b4145b6b2933835095697bf"
     }
    },
    "23fb3737070f4bc0aab2ab40d346318a": {
     "model_module": "@jupyter-widgets/base",
     "model_module_version": "1.2.0",
     "model_name": "LayoutModel",
     "state": {
      "_model_module": "@jupyter-widgets/base",
      "_model_module_version": "1.2.0",
      "_model_name": "LayoutModel",
      "_view_count": null,
      "_view_module": "@jupyter-widgets/base",
      "_view_module_version": "1.2.0",
      "_view_name": "LayoutView",
      "align_content": null,
      "align_items": null,
      "align_self": null,
      "border": null,
      "bottom": null,
      "display": null,
      "flex": null,
      "flex_flow": null,
      "grid_area": null,
      "grid_auto_columns": null,
      "grid_auto_flow": null,
      "grid_auto_rows": null,
      "grid_column": null,
      "grid_gap": null,
      "grid_row": null,
      "grid_template_areas": null,
      "grid_template_columns": null,
      "grid_template_rows": null,
      "height": null,
      "justify_content": null,
      "justify_items": null,
      "left": null,
      "margin": null,
      "max_height": null,
      "max_width": null,
      "min_height": null,
      "min_width": null,
      "object_fit": null,
      "object_position": null,
      "order": null,
      "overflow": null,
      "overflow_x": null,
      "overflow_y": null,
      "padding": null,
      "right": null,
      "top": null,
      "visibility": null,
      "width": null
     }
    },
    "240dfed21dc243d4924bb1499d831f16": {
     "model_module": "@jupyter-widgets/controls",
     "model_module_version": "1.5.0",
     "model_name": "HTMLModel",
     "state": {
      "_dom_classes": [],
      "_model_module": "@jupyter-widgets/controls",
      "_model_module_version": "1.5.0",
      "_model_name": "HTMLModel",
      "_view_count": null,
      "_view_module": "@jupyter-widgets/controls",
      "_view_module_version": "1.5.0",
      "_view_name": "HTMLView",
      "description": "",
      "description_tooltip": null,
      "layout": "IPY_MODEL_7d10bf4cdc0a43ed88b18383cf9ec058",
      "placeholder": "​",
      "style": "IPY_MODEL_b0b25a9724fd4bbb92da8841b330a5a1",
      "value": " 105.0/? [00:02&lt;00:00, 67.55M/s]"
     }
    },
    "281be11a4df74da7b3ab94f6d85cca05": {
     "model_module": "@jupyter-widgets/controls",
     "model_module_version": "1.5.0",
     "model_name": "DescriptionStyleModel",
     "state": {
      "_model_module": "@jupyter-widgets/controls",
      "_model_module_version": "1.5.0",
      "_model_name": "DescriptionStyleModel",
      "_view_count": null,
      "_view_module": "@jupyter-widgets/base",
      "_view_module_version": "1.2.0",
      "_view_name": "StyleView",
      "description_width": ""
     }
    },
    "38bb0b2fe2b54a78868f10050d4dd4b0": {
     "model_module": "@jupyter-widgets/controls",
     "model_module_version": "1.5.0",
     "model_name": "HBoxModel",
     "state": {
      "_dom_classes": [],
      "_model_module": "@jupyter-widgets/controls",
      "_model_module_version": "1.5.0",
      "_model_name": "HBoxModel",
      "_view_count": null,
      "_view_module": "@jupyter-widgets/controls",
      "_view_module_version": "1.5.0",
      "_view_name": "HBoxView",
      "box_style": "",
      "children": [
       "IPY_MODEL_d6abd5a8b5fd4649b5e0a7c0a115e463",
       "IPY_MODEL_cedcf42aa36543f8a4bb30e8e3d30f34",
       "IPY_MODEL_240dfed21dc243d4924bb1499d831f16"
      ],
      "layout": "IPY_MODEL_faa3c7f677dc4cc382b4ab0163c8a180"
     }
    },
    "3a4f8326a186498abd66dde7de3fc5c5": {
     "model_module": "@jupyter-widgets/base",
     "model_module_version": "1.2.0",
     "model_name": "LayoutModel",
     "state": {
      "_model_module": "@jupyter-widgets/base",
      "_model_module_version": "1.2.0",
      "_model_name": "LayoutModel",
      "_view_count": null,
      "_view_module": "@jupyter-widgets/base",
      "_view_module_version": "1.2.0",
      "_view_name": "LayoutView",
      "align_content": null,
      "align_items": null,
      "align_self": null,
      "border": null,
      "bottom": null,
      "display": null,
      "flex": null,
      "flex_flow": null,
      "grid_area": null,
      "grid_auto_columns": null,
      "grid_auto_flow": null,
      "grid_auto_rows": null,
      "grid_column": null,
      "grid_gap": null,
      "grid_row": null,
      "grid_template_areas": null,
      "grid_template_columns": null,
      "grid_template_rows": null,
      "height": null,
      "justify_content": null,
      "justify_items": null,
      "left": null,
      "margin": null,
      "max_height": null,
      "max_width": null,
      "min_height": null,
      "min_width": null,
      "object_fit": null,
      "object_position": null,
      "order": null,
      "overflow": null,
      "overflow_x": null,
      "overflow_y": null,
      "padding": null,
      "right": null,
      "top": null,
      "visibility": null,
      "width": null
     }
    },
    "40669f968394464d8229bb116446cdaa": {
     "model_module": "@jupyter-widgets/controls",
     "model_module_version": "1.5.0",
     "model_name": "ProgressStyleModel",
     "state": {
      "_model_module": "@jupyter-widgets/controls",
      "_model_module_version": "1.5.0",
      "_model_name": "ProgressStyleModel",
      "_view_count": null,
      "_view_module": "@jupyter-widgets/base",
      "_view_module_version": "1.2.0",
      "_view_name": "StyleView",
      "bar_color": null,
      "description_width": ""
     }
    },
    "550f822c71834bc693c2e388ac889c52": {
     "model_module": "@jupyter-widgets/controls",
     "model_module_version": "1.5.0",
     "model_name": "FloatProgressModel",
     "state": {
      "_dom_classes": [],
      "_model_module": "@jupyter-widgets/controls",
      "_model_module_version": "1.5.0",
      "_model_name": "FloatProgressModel",
      "_view_count": null,
      "_view_module": "@jupyter-widgets/controls",
      "_view_module_version": "1.5.0",
      "_view_name": "ProgressView",
      "bar_style": "success",
      "description": "",
      "description_tooltip": null,
      "layout": "IPY_MODEL_3a4f8326a186498abd66dde7de3fc5c5",
      "max": 0.8,
      "min": 0,
      "orientation": "horizontal",
      "style": "IPY_MODEL_40669f968394464d8229bb116446cdaa",
      "value": 0.8
     }
    },
    "57c7e8a0c8e94b06a83da2e486108bab": {
     "model_module": "@jupyter-widgets/base",
     "model_module_version": "1.2.0",
     "model_name": "LayoutModel",
     "state": {
      "_model_module": "@jupyter-widgets/base",
      "_model_module_version": "1.2.0",
      "_model_name": "LayoutModel",
      "_view_count": null,
      "_view_module": "@jupyter-widgets/base",
      "_view_module_version": "1.2.0",
      "_view_name": "LayoutView",
      "align_content": null,
      "align_items": null,
      "align_self": null,
      "border": null,
      "bottom": null,
      "display": null,
      "flex": null,
      "flex_flow": null,
      "grid_area": null,
      "grid_auto_columns": null,
      "grid_auto_flow": null,
      "grid_auto_rows": null,
      "grid_column": null,
      "grid_gap": null,
      "grid_row": null,
      "grid_template_areas": null,
      "grid_template_columns": null,
      "grid_template_rows": null,
      "height": null,
      "justify_content": null,
      "justify_items": null,
      "left": null,
      "margin": null,
      "max_height": null,
      "max_width": null,
      "min_height": null,
      "min_width": null,
      "object_fit": null,
      "object_position": null,
      "order": null,
      "overflow": null,
      "overflow_x": null,
      "overflow_y": null,
      "padding": null,
      "right": null,
      "top": null,
      "visibility": null,
      "width": null
     }
    },
    "59dbf57a5b4145b6b2933835095697bf": {
     "model_module": "@jupyter-widgets/base",
     "model_module_version": "1.2.0",
     "model_name": "LayoutModel",
     "state": {
      "_model_module": "@jupyter-widgets/base",
      "_model_module_version": "1.2.0",
      "_model_name": "LayoutModel",
      "_view_count": null,
      "_view_module": "@jupyter-widgets/base",
      "_view_module_version": "1.2.0",
      "_view_name": "LayoutView",
      "align_content": null,
      "align_items": null,
      "align_self": null,
      "border": null,
      "bottom": null,
      "display": null,
      "flex": null,
      "flex_flow": null,
      "grid_area": null,
      "grid_auto_columns": null,
      "grid_auto_flow": null,
      "grid_auto_rows": null,
      "grid_column": null,
      "grid_gap": null,
      "grid_row": null,
      "grid_template_areas": null,
      "grid_template_columns": null,
      "grid_template_rows": null,
      "height": null,
      "justify_content": null,
      "justify_items": null,
      "left": null,
      "margin": null,
      "max_height": null,
      "max_width": null,
      "min_height": null,
      "min_width": null,
      "object_fit": null,
      "object_position": null,
      "order": null,
      "overflow": null,
      "overflow_x": null,
      "overflow_y": null,
      "padding": null,
      "right": null,
      "top": null,
      "visibility": null,
      "width": null
     }
    },
    "63998809fc644c7a89f7c0ef89c00672": {
     "model_module": "@jupyter-widgets/base",
     "model_module_version": "1.2.0",
     "model_name": "LayoutModel",
     "state": {
      "_model_module": "@jupyter-widgets/base",
      "_model_module_version": "1.2.0",
      "_model_name": "LayoutModel",
      "_view_count": null,
      "_view_module": "@jupyter-widgets/base",
      "_view_module_version": "1.2.0",
      "_view_name": "LayoutView",
      "align_content": null,
      "align_items": null,
      "align_self": null,
      "border": null,
      "bottom": null,
      "display": null,
      "flex": null,
      "flex_flow": null,
      "grid_area": null,
      "grid_auto_columns": null,
      "grid_auto_flow": null,
      "grid_auto_rows": null,
      "grid_column": null,
      "grid_gap": null,
      "grid_row": null,
      "grid_template_areas": null,
      "grid_template_columns": null,
      "grid_template_rows": null,
      "height": null,
      "justify_content": null,
      "justify_items": null,
      "left": null,
      "margin": null,
      "max_height": null,
      "max_width": null,
      "min_height": null,
      "min_width": null,
      "object_fit": null,
      "object_position": null,
      "order": null,
      "overflow": null,
      "overflow_x": null,
      "overflow_y": null,
      "padding": null,
      "right": null,
      "top": null,
      "visibility": null,
      "width": null
     }
    },
    "706a7aa97f824467afa172c26118a74f": {
     "model_module": "@jupyter-widgets/controls",
     "model_module_version": "1.5.0",
     "model_name": "HTMLModel",
     "state": {
      "_dom_classes": [],
      "_model_module": "@jupyter-widgets/controls",
      "_model_module_version": "1.5.0",
      "_model_name": "HTMLModel",
      "_view_count": null,
      "_view_module": "@jupyter-widgets/controls",
      "_view_module_version": "1.5.0",
      "_view_name": "HTMLView",
      "description": "",
      "description_tooltip": null,
      "layout": "IPY_MODEL_57c7e8a0c8e94b06a83da2e486108bab",
      "placeholder": "​",
      "style": "IPY_MODEL_8590de1a139543c3a3488dfbde6bd76b",
      "value": ""
     }
    },
    "7d10bf4cdc0a43ed88b18383cf9ec058": {
     "model_module": "@jupyter-widgets/base",
     "model_module_version": "1.2.0",
     "model_name": "LayoutModel",
     "state": {
      "_model_module": "@jupyter-widgets/base",
      "_model_module_version": "1.2.0",
      "_model_name": "LayoutModel",
      "_view_count": null,
      "_view_module": "@jupyter-widgets/base",
      "_view_module_version": "1.2.0",
      "_view_name": "LayoutView",
      "align_content": null,
      "align_items": null,
      "align_self": null,
      "border": null,
      "bottom": null,
      "display": null,
      "flex": null,
      "flex_flow": null,
      "grid_area": null,
      "grid_auto_columns": null,
      "grid_auto_flow": null,
      "grid_auto_rows": null,
      "grid_column": null,
      "grid_gap": null,
      "grid_row": null,
      "grid_template_areas": null,
      "grid_template_columns": null,
      "grid_template_rows": null,
      "height": null,
      "justify_content": null,
      "justify_items": null,
      "left": null,
      "margin": null,
      "max_height": null,
      "max_width": null,
      "min_height": null,
      "min_width": null,
      "object_fit": null,
      "object_position": null,
      "order": null,
      "overflow": null,
      "overflow_x": null,
      "overflow_y": null,
      "padding": null,
      "right": null,
      "top": null,
      "visibility": null,
      "width": null
     }
    },
    "81849272dd164f4fa7bb5f10ddab9344": {
     "model_module": "@jupyter-widgets/controls",
     "model_module_version": "1.5.0",
     "model_name": "DescriptionStyleModel",
     "state": {
      "_model_module": "@jupyter-widgets/controls",
      "_model_module_version": "1.5.0",
      "_model_name": "DescriptionStyleModel",
      "_view_count": null,
      "_view_module": "@jupyter-widgets/base",
      "_view_module_version": "1.2.0",
      "_view_name": "StyleView",
      "description_width": ""
     }
    },
    "8590de1a139543c3a3488dfbde6bd76b": {
     "model_module": "@jupyter-widgets/controls",
     "model_module_version": "1.5.0",
     "model_name": "DescriptionStyleModel",
     "state": {
      "_model_module": "@jupyter-widgets/controls",
      "_model_module_version": "1.5.0",
      "_model_name": "DescriptionStyleModel",
      "_view_count": null,
      "_view_module": "@jupyter-widgets/base",
      "_view_module_version": "1.2.0",
      "_view_name": "StyleView",
      "description_width": ""
     }
    },
    "9d32cd7603c142349d3ba14227daaee1": {
     "model_module": "@jupyter-widgets/base",
     "model_module_version": "1.2.0",
     "model_name": "LayoutModel",
     "state": {
      "_model_module": "@jupyter-widgets/base",
      "_model_module_version": "1.2.0",
      "_model_name": "LayoutModel",
      "_view_count": null,
      "_view_module": "@jupyter-widgets/base",
      "_view_module_version": "1.2.0",
      "_view_name": "LayoutView",
      "align_content": null,
      "align_items": null,
      "align_self": null,
      "border": null,
      "bottom": null,
      "display": null,
      "flex": null,
      "flex_flow": null,
      "grid_area": null,
      "grid_auto_columns": null,
      "grid_auto_flow": null,
      "grid_auto_rows": null,
      "grid_column": null,
      "grid_gap": null,
      "grid_row": null,
      "grid_template_areas": null,
      "grid_template_columns": null,
      "grid_template_rows": null,
      "height": null,
      "justify_content": null,
      "justify_items": null,
      "left": null,
      "margin": null,
      "max_height": null,
      "max_width": null,
      "min_height": null,
      "min_width": null,
      "object_fit": null,
      "object_position": null,
      "order": null,
      "overflow": null,
      "overflow_x": null,
      "overflow_y": null,
      "padding": null,
      "right": null,
      "top": null,
      "visibility": null,
      "width": null
     }
    },
    "aa7778c01bb34450abf7e82046a21464": {
     "model_module": "@jupyter-widgets/controls",
     "model_module_version": "1.5.0",
     "model_name": "HTMLModel",
     "state": {
      "_dom_classes": [],
      "_model_module": "@jupyter-widgets/controls",
      "_model_module_version": "1.5.0",
      "_model_name": "HTMLModel",
      "_view_count": null,
      "_view_module": "@jupyter-widgets/controls",
      "_view_module_version": "1.5.0",
      "_view_name": "HTMLView",
      "description": "",
      "description_tooltip": null,
      "layout": "IPY_MODEL_63998809fc644c7a89f7c0ef89c00672",
      "placeholder": "​",
      "style": "IPY_MODEL_81849272dd164f4fa7bb5f10ddab9344",
      "value": " 5.0/? [00:01&lt;00:00,  4.98M/s]"
     }
    },
    "b0b25a9724fd4bbb92da8841b330a5a1": {
     "model_module": "@jupyter-widgets/controls",
     "model_module_version": "1.5.0",
     "model_name": "DescriptionStyleModel",
     "state": {
      "_model_module": "@jupyter-widgets/controls",
      "_model_module_version": "1.5.0",
      "_model_name": "DescriptionStyleModel",
      "_view_count": null,
      "_view_module": "@jupyter-widgets/base",
      "_view_module_version": "1.2.0",
      "_view_name": "StyleView",
      "description_width": ""
     }
    },
    "c33277eb55de470ab4abcf65dce5afa7": {
     "model_module": "@jupyter-widgets/controls",
     "model_module_version": "1.5.0",
     "model_name": "ProgressStyleModel",
     "state": {
      "_model_module": "@jupyter-widgets/controls",
      "_model_module_version": "1.5.0",
      "_model_name": "ProgressStyleModel",
      "_view_count": null,
      "_view_module": "@jupyter-widgets/base",
      "_view_module_version": "1.2.0",
      "_view_name": "StyleView",
      "bar_color": null,
      "description_width": ""
     }
    },
    "cedcf42aa36543f8a4bb30e8e3d30f34": {
     "model_module": "@jupyter-widgets/controls",
     "model_module_version": "1.5.0",
     "model_name": "FloatProgressModel",
     "state": {
      "_dom_classes": [],
      "_model_module": "@jupyter-widgets/controls",
      "_model_module_version": "1.5.0",
      "_model_name": "FloatProgressModel",
      "_view_count": null,
      "_view_module": "@jupyter-widgets/controls",
      "_view_module_version": "1.5.0",
      "_view_name": "ProgressView",
      "bar_style": "success",
      "description": "",
      "description_tooltip": null,
      "layout": "IPY_MODEL_9d32cd7603c142349d3ba14227daaee1",
      "max": 104.5,
      "min": 0,
      "orientation": "horizontal",
      "style": "IPY_MODEL_c33277eb55de470ab4abcf65dce5afa7",
      "value": 104.5
     }
    },
    "d6abd5a8b5fd4649b5e0a7c0a115e463": {
     "model_module": "@jupyter-widgets/controls",
     "model_module_version": "1.5.0",
     "model_name": "HTMLModel",
     "state": {
      "_dom_classes": [],
      "_model_module": "@jupyter-widgets/controls",
      "_model_module_version": "1.5.0",
      "_model_name": "HTMLModel",
      "_view_count": null,
      "_view_module": "@jupyter-widgets/controls",
      "_view_module_version": "1.5.0",
      "_view_name": "HTMLView",
      "description": "",
      "description_tooltip": null,
      "layout": "IPY_MODEL_23fb3737070f4bc0aab2ab40d346318a",
      "placeholder": "​",
      "style": "IPY_MODEL_281be11a4df74da7b3ab94f6d85cca05",
      "value": ""
     }
    },
    "faa3c7f677dc4cc382b4ab0163c8a180": {
     "model_module": "@jupyter-widgets/base",
     "model_module_version": "1.2.0",
     "model_name": "LayoutModel",
     "state": {
      "_model_module": "@jupyter-widgets/base",
      "_model_module_version": "1.2.0",
      "_model_name": "LayoutModel",
      "_view_count": null,
      "_view_module": "@jupyter-widgets/base",
      "_view_module_version": "1.2.0",
      "_view_name": "LayoutView",
      "align_content": null,
      "align_items": null,
      "align_self": null,
      "border": null,
      "bottom": null,
      "display": null,
      "flex": null,
      "flex_flow": null,
      "grid_area": null,
      "grid_auto_columns": null,
      "grid_auto_flow": null,
      "grid_auto_rows": null,
      "grid_column": null,
      "grid_gap": null,
      "grid_row": null,
      "grid_template_areas": null,
      "grid_template_columns": null,
      "grid_template_rows": null,
      "height": null,
      "justify_content": null,
      "justify_items": null,
      "left": null,
      "margin": null,
      "max_height": null,
      "max_width": null,
      "min_height": null,
      "min_width": null,
      "object_fit": null,
      "object_position": null,
      "order": null,
      "overflow": null,
      "overflow_x": null,
      "overflow_y": null,
      "padding": null,
      "right": null,
      "top": null,
      "visibility": null,
      "width": null
     }
    }
   }
  }
 },
 "nbformat": 4,
 "nbformat_minor": 0
}