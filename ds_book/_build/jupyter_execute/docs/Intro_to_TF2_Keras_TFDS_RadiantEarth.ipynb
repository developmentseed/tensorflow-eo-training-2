{
 "cells": [
  {
   "attachments": {},
   "cell_type": "markdown",
   "metadata": {
    "id": "3wF5wszaj97Y"
   },
   "source": [
    "# TensorFlow 2 and Keras quickstart for geospatial computer vision"
   ]
  },
  {
   "attachments": {},
   "cell_type": "markdown",
   "metadata": {
    "id": "04QgGZc9bF5D"
   },
   "source": [
    "This short introduction uses [Keras](https://www.tensorflow.org/guide/keras/overview) to:\n",
    "\n",
    "1. Load a prebuilt geospatial dataset (two options).\n",
    "1. Build a neural network machine learning model that classifies images.\n",
    "2. Train this neural network.\n",
    "3. Evaluate the accuracy of the model."
   ]
  },
  {
   "cell_type": "code",
   "execution_count": 1,
   "metadata": {
    "colab": {
     "base_uri": "https://localhost:8080/"
    },
    "id": "CB7fVJbEba8D",
    "outputId": "690db574-273c-4ec9-a45e-17cdd2828b4b"
   },
   "outputs": [
    {
     "name": "stdout",
     "output_type": "stream",
     "text": [
      "\u001b[2K     \u001b[90m━━━━━━━━━━━━━━━━━━━━━━━━━━━━━━━━━━━━━━━━\u001b[0m \u001b[32m21.3/21.3 MB\u001b[0m \u001b[31m31.0 MB/s\u001b[0m eta \u001b[36m0:00:00\u001b[0m\n",
      "\u001b[2K     \u001b[90m━━━━━━━━━━━━━━━━━━━━━━━━━━━━━━━━━━━━━━━━\u001b[0m \u001b[32m52.1/52.1 kB\u001b[0m \u001b[31m2.4 MB/s\u001b[0m eta \u001b[36m0:00:00\u001b[0m\n",
      "\u001b[2K     \u001b[90m━━━━━━━━━━━━━━━━━━━━━━━━━━━━━━━━━━━━━━━━\u001b[0m \u001b[32m12.0/12.0 MB\u001b[0m \u001b[31m81.2 MB/s\u001b[0m eta \u001b[36m0:00:00\u001b[0m\n",
      "\u001b[2K     \u001b[90m━━━━━━━━━━━━━━━━━━━━━━━━━━━━━━━━━━━━━━\u001b[0m \u001b[32m137.4/137.4 kB\u001b[0m \u001b[31m15.7 MB/s\u001b[0m eta \u001b[36m0:00:00\u001b[0m\n",
      "\u001b[2K     \u001b[90m━━━━━━━━━━━━━━━━━━━━━━━━━━━━━━━━━━━━━━━━\u001b[0m \u001b[32m2.0/2.0 MB\u001b[0m \u001b[31m77.8 MB/s\u001b[0m eta \u001b[36m0:00:00\u001b[0m\n",
      "\u001b[2K     \u001b[90m━━━━━━━━━━━━━━━━━━━━━━━━━━━━━━━━━━━━━━━━\u001b[0m \u001b[32m78.5/78.5 kB\u001b[0m \u001b[31m9.1 MB/s\u001b[0m eta \u001b[36m0:00:00\u001b[0m\n",
      "\u001b[?25h"
     ]
    }
   ],
   "source": [
    "# install required libraries\n",
    "!pip install -q rasterio\n",
    "!pip install -q geopandas\n",
    "!pip install -q radiant_mlhub # for dataset access, see: https://mlhub.earth/"
   ]
  },
  {
   "cell_type": "code",
   "execution_count": 2,
   "metadata": {
    "id": "uGN2DG_DcVrp"
   },
   "outputs": [],
   "source": [
    "import os, glob, functools, fnmatch, io, shutil, tarfile, json\n",
    "from zipfile import ZipFile\n",
    "from itertools import product\n",
    "from pathlib import Path\n",
    "import urllib.request\n",
    "from radiant_mlhub import Dataset, client, get_session, Collection\n",
    "import pandas as pd\n",
    "from sklearn.model_selection import train_test_split\n",
    "from PIL import Image\n",
    "import numpy as np\n",
    "import tensorflow_datasets as tfds"
   ]
  },
  {
   "attachments": {},
   "cell_type": "markdown",
   "metadata": {
    "id": "nnrWf3PCEzXL"
   },
   "source": [
    "## Set up TensorFlow\n",
    "\n",
    "Import TensorFlow into your program to get started:"
   ]
  },
  {
   "cell_type": "code",
   "execution_count": 4,
   "metadata": {
    "colab": {
     "base_uri": "https://localhost:8080/"
    },
    "id": "0trJmd6DjqBZ",
    "outputId": "b25210e9-1973-4df8-df1c-d7b6d75964be"
   },
   "outputs": [
    {
     "name": "stdout",
     "output_type": "stream",
     "text": [
      "TensorFlow version: 2.12.0\n"
     ]
    }
   ],
   "source": [
    "import tensorflow as tf\n",
    "print(\"TensorFlow version:\", tf.__version__)"
   ]
  },
  {
   "cell_type": "code",
   "execution_count": 6,
   "metadata": {
    "colab": {
     "base_uri": "https://localhost:8080/"
    },
    "id": "SQkDlleGb-0T",
    "outputId": "608a3fc0-2487-4ae4-85a3-c72e0f891d23"
   },
   "outputs": [
    {
     "name": "stdout",
     "output_type": "stream",
     "text": [
      "Mounted at /content/gdrive\n"
     ]
    }
   ],
   "source": [
    "# Mount google drive.\n",
    "from google.colab import drive\n",
    "drive.mount('/content/gdrive')"
   ]
  },
  {
   "cell_type": "code",
   "execution_count": 7,
   "metadata": {
    "colab": {
     "base_uri": "https://localhost:8080/"
    },
    "id": "UrrIbHzwcLwu",
    "outputId": "e5868893-f698-465a-8aa3-52e685efcef8"
   },
   "outputs": [
    {
     "name": "stdout",
     "output_type": "stream",
     "text": [
      "Drive already mounted at /content/gdrive; to attempt to forcibly remount, call drive.mount(\"/content/gdrive\", force_remount=True).\n",
      "Running on Colab\n"
     ]
    }
   ],
   "source": [
    "# set your root directory and tiled data folders\n",
    "if 'google.colab' in str(get_ipython()):\n",
    "    # mount google drive\n",
    "    from google.colab import drive\n",
    "    drive.mount('/content/gdrive')\n",
    "    root_dir = '/content/gdrive/My Drive/tf-eo-devseed-2/'\n",
    "    workshop_dir = '/content/gdrive/My Drive/tf-eo-devseed-workshop-2'\n",
    "    dirs = [root_dir, workshop_dir]\n",
    "    for d in dirs:\n",
    "        if not os.path.exists(d):\n",
    "            os.makedirs(d)\n",
    "    print('Running on Colab')\n",
    "else:\n",
    "    root_dir = os.path.abspath(\"./data/tf-eo-devseed-2\")\n",
    "    workshop_dir = os.path.abspath('./tf-eo-devseed-workshop-2')\n",
    "    print(f'Not running on Colab, data needs to be downloaded locally at {os.path.abspath(root_dir)}')\n"
   ]
  },
  {
   "cell_type": "code",
   "execution_count": 8,
   "metadata": {
    "colab": {
     "base_uri": "https://localhost:8080/"
    },
    "id": "2wkfndGzcci7",
    "outputId": "66a567ae-b7dd-4f39-d90a-1e564a538a65"
   },
   "outputs": [
    {
     "name": "stdout",
     "output_type": "stream",
     "text": [
      "/content/gdrive/My Drive/tf-eo-devseed-2\n"
     ]
    }
   ],
   "source": [
    "%cd $root_dir"
   ]
  },
  {
   "attachments": {},
   "cell_type": "markdown",
   "metadata": {
    "id": "gUMFaqLU7Gpi"
   },
   "source": [
    "## Let's use a dataset from TF Datasets\n",
    "\n",
    "We will use the Eurosat dataset, which contains labeled Sentinel-2 image patches classified into 10 land cover types. More details here: https://www.tensorflow.org/datasets/catalog/eurosat"
   ]
  },
  {
   "cell_type": "code",
   "execution_count": 10,
   "metadata": {
    "id": "G83Q4JAw70Uy"
   },
   "outputs": [],
   "source": [
    "def get_train_test_splits(dataset, image_arrays_list, label_integers_list):\n",
    "  \"\"\"\n",
    "  Function to get dataset splits for training and testing.\n",
    "  \"\"\"\n",
    "  for features in train_dataset.take(len(train_dataset)):\n",
    "    image, label = features[\"image\"], features[\"label\"]\n",
    "    image_arrays_list.append(image)\n",
    "    label_integers_list.append(label)\n",
    "  x_dataset, y_dataset = np.array(image_arrays_list), np.array(label_integers_list)\n",
    "  return x_dataset, y_dataset\n"
   ]
  },
  {
   "cell_type": "code",
   "execution_count": 11,
   "metadata": {
    "id": "yScjcfxr3qR6"
   },
   "outputs": [],
   "source": [
    "# Construct tf.data.Dataset(s)\n",
    "all_dataset = tfds.load(name=\"eurosat\", split=tfds.Split.TRAIN)\n",
    "all_dataset = all_dataset.shuffle(1024)\n",
    "test_dataset = all_dataset.take(int(len(all_dataset)*0.3))\n",
    "train_dataset = all_dataset.skip(int(len(all_dataset)*0.3))\n",
    "\n",
    "train_image_arrays = []\n",
    "train_label_integers = []\n",
    "test_image_arrays = []\n",
    "test_label_integers = []\n",
    "\n",
    "x_train, y_train = get_train_test_splits(train_dataset, train_image_arrays, train_label_integers)\n",
    "x_test, y_test = get_train_test_splits(test_dataset, test_image_arrays, test_label_integers)"
   ]
  },
  {
   "cell_type": "code",
   "execution_count": null,
   "metadata": {
    "id": "XYi8wD1e9Sct"
   },
   "outputs": [],
   "source": [
    "# Check for all classes in each split\n",
    "# set(train_label_integers), set(test_label_integers)"
   ]
  },
  {
   "cell_type": "code",
   "execution_count": 20,
   "metadata": {
    "id": "YG4VBkzzA-Cz"
   },
   "outputs": [],
   "source": [
    "# Dataset specific parameters to be used in the model structure\n",
    "input_shape=(64, 64, 3)\n",
    "num_classes = 10"
   ]
  },
  {
   "attachments": {},
   "cell_type": "markdown",
   "metadata": {
    "id": "BPZ68wASog_I"
   },
   "source": [
    "## Now, let's build a very basic machine learning model\n",
    "\n",
    "We'll use the `tf.keras.Sequential` model structure:"
   ]
  },
  {
   "cell_type": "code",
   "execution_count": 21,
   "metadata": {
    "id": "h3IKyzTCDNGo"
   },
   "outputs": [],
   "source": [
    "model = tf.keras.models.Sequential([\n",
    "  tf.keras.layers.Flatten(input_shape=input_shape),\n",
    "  tf.keras.layers.Dense(128, activation='relu'),\n",
    "  tf.keras.layers.Dropout(0.2),\n",
    "  tf.keras.layers.Dense(num_classes)\n",
    "])"
   ]
  },
  {
   "attachments": {},
   "cell_type": "markdown",
   "metadata": {
    "id": "l2hiez2eIUz8"
   },
   "source": [
    "The [`Sequential`](https://www.tensorflow.org/guide/keras/sequential_model) structure is designed to stack layers where each layer has an input [a tensor](https://www.tensorflow.org/guide/tensor) and an output tensor. Layers themselves are simply functions performing matrix calculations. They may contain trainable variables and are reusable.\n",
    "\n",
    "It is most common for TensorFlow models to be composed of layers. This sequential model is composed of the [`Flatten`](https://www.tensorflow.org/api_docs/python/tf/keras/layers/Flatten), [`Dense`](https://www.tensorflow.org/api_docs/python/tf/keras/layers/Dense), and [`Dropout`](https://www.tensorflow.org/api_docs/python/tf/keras/layers/Dropout) layers.\n",
    "\n",
    "For each data sample provided the model, the corresponding output is a vector of [logits](https://developers.google.com/machine-learning/glossary#logits) or [log-odds](https://developers.google.com/machine-learning/glossary#log-odds) scores, for each class."
   ]
  },
  {
   "cell_type": "code",
   "execution_count": 22,
   "metadata": {
    "colab": {
     "base_uri": "https://localhost:8080/"
    },
    "id": "OeOrNdnkEEcR",
    "outputId": "7ba24980-8faa-4ed1-b196-6b2ebd87fb2f"
   },
   "outputs": [
    {
     "data": {
      "text/plain": [
       "array([[  31.113968, -233.73282 ,  -13.396179, -187.52554 ,  283.56955 ,\n",
       "         140.87149 ,  -21.897041,  121.08661 , -132.10884 ,  327.67224 ]],\n",
       "      dtype=float32)"
      ]
     },
     "execution_count": 22,
     "metadata": {},
     "output_type": "execute_result"
    }
   ],
   "source": [
    "predictions = model(x_train[:1]).numpy()\n",
    "predictions"
   ]
  },
  {
   "attachments": {},
   "cell_type": "markdown",
   "metadata": {
    "id": "tgjhDQGcIniO"
   },
   "source": [
    "The `tf.nn.softmax` function converts logits to *probabilities* for each class:"
   ]
  },
  {
   "cell_type": "code",
   "execution_count": 23,
   "metadata": {
    "colab": {
     "base_uri": "https://localhost:8080/"
    },
    "id": "zWSRnQ0WI5eq",
    "outputId": "df9c16c0-f568-41fb-9050-99cfc32c8818"
   },
   "outputs": [
    {
     "data": {
      "text/plain": [
       "array([[0.000000e+00, 0.000000e+00, 0.000000e+00, 0.000000e+00,\n",
       "        7.021734e-20, 0.000000e+00, 0.000000e+00, 0.000000e+00,\n",
       "        0.000000e+00, 1.000000e+00]], dtype=float32)"
      ]
     },
     "execution_count": 23,
     "metadata": {},
     "output_type": "execute_result"
    }
   ],
   "source": [
    "tf.nn.softmax(predictions).numpy()"
   ]
  },
  {
   "attachments": {},
   "cell_type": "markdown",
   "metadata": {
    "id": "hQyugpgRIyrA"
   },
   "source": [
    "The next step is to specify a loss function for training. We will be using `losses.SparseCategoricalCrossentropy` as it is a commonly used loss function for multi-class data:"
   ]
  },
  {
   "cell_type": "code",
   "execution_count": 24,
   "metadata": {
    "id": "RSkzdv8MD0tT"
   },
   "outputs": [],
   "source": [
    "loss_fn = tf.keras.losses.SparseCategoricalCrossentropy(from_logits=True)"
   ]
  },
  {
   "attachments": {},
   "cell_type": "markdown",
   "metadata": {
    "id": "SfR4MsSDU880"
   },
   "source": [
    "The input to the loss function is a vector of ground truth values and a vector of logits. The returned output is a scalar loss for each data sample. Loss values close to zero are good, as they imply proximity to the correct class.\n",
    "\n",
    "The untrained model will produce probabilities close to random (1/n for each class), so the initial loss should be close to `-tf.math.log(1/n)`."
   ]
  },
  {
   "cell_type": "code",
   "execution_count": 25,
   "metadata": {
    "colab": {
     "base_uri": "https://localhost:8080/"
    },
    "id": "NJWqEVrrJ7ZB",
    "outputId": "b22b39de-ff7a-4a3c-a5a3-6b278a7c648d"
   },
   "outputs": [
    {
     "data": {
      "text/plain": [
       "44.10269"
      ]
     },
     "execution_count": 25,
     "metadata": {},
     "output_type": "execute_result"
    }
   ],
   "source": [
    "loss_fn(y_train[:1], predictions).numpy()"
   ]
  },
  {
   "attachments": {},
   "cell_type": "markdown",
   "metadata": {
    "id": "ada44eb947d4"
   },
   "source": [
    "Before the model can be trained, it needs to be configured and compiled, using Keras `Model.compile`. In this step, we establish the [`optimizer`](https://www.tensorflow.org/api_docs/python/tf/keras/optimizers) class (which in this case will be `adam`), the `loss` to the `loss_fn` function defined earlier, and a metric that will be used evaluate the model at each iteration (herein we will use `accuracy`)."
   ]
  },
  {
   "cell_type": "code",
   "execution_count": 26,
   "metadata": {
    "id": "9foNKHzTD2Vo"
   },
   "outputs": [],
   "source": [
    "model.compile(optimizer='adam',\n",
    "              loss=loss_fn,\n",
    "              metrics=['accuracy'])"
   ]
  },
  {
   "attachments": {},
   "cell_type": "markdown",
   "metadata": {
    "id": "ix4mEL65on-w"
   },
   "source": [
    "## Train and evaluate your model\n",
    "\n",
    "No we will train the model using the `Model.fit` Keras method. During the following iterations, the model parameters will adjust and we will hope to see the loss."
   ]
  },
  {
   "cell_type": "code",
   "execution_count": 27,
   "metadata": {
    "colab": {
     "base_uri": "https://localhost:8080/"
    },
    "id": "y7suUbJXVLqP",
    "outputId": "f5b3470f-27df-4244-9b6c-4eaeb58fd861"
   },
   "outputs": [
    {
     "name": "stdout",
     "output_type": "stream",
     "text": [
      "Epoch 1/5\n",
      "591/591 [==============================] - 14s 23ms/step - loss: 39.7340 - accuracy: 0.1045\n",
      "Epoch 2/5\n",
      "591/591 [==============================] - 16s 26ms/step - loss: 2.2971 - accuracy: 0.1094\n",
      "Epoch 3/5\n",
      "591/591 [==============================] - 18s 30ms/step - loss: 2.2966 - accuracy: 0.1092\n",
      "Epoch 4/5\n",
      "591/591 [==============================] - 15s 25ms/step - loss: 2.2965 - accuracy: 0.1116\n",
      "Epoch 5/5\n",
      "591/591 [==============================] - 16s 28ms/step - loss: 2.2965 - accuracy: 0.1095\n"
     ]
    },
    {
     "data": {
      "text/plain": [
       "<keras.callbacks.History at 0x7f29c43236a0>"
      ]
     },
     "execution_count": 27,
     "metadata": {},
     "output_type": "execute_result"
    }
   ],
   "source": [
    "model.fit(x_train, y_train, epochs=5)"
   ]
  },
  {
   "attachments": {},
   "cell_type": "markdown",
   "metadata": {
    "id": "4mDAAPFqVVgn"
   },
   "source": [
    "To evaluate the mode, we will use the `Model.evaluate` Keras method. The performance is evaluated on a [test set](https://developers.google.com/machine-learning/glossary#test-set)."
   ]
  },
  {
   "cell_type": "code",
   "execution_count": 34,
   "metadata": {
    "colab": {
     "base_uri": "https://localhost:8080/"
    },
    "id": "F7dTAzgHDUh7",
    "outputId": "d4a38e27-80b0-4ef1-dad9-758b1c1c5925"
   },
   "outputs": [
    {
     "name": "stdout",
     "output_type": "stream",
     "text": [
      "254/254 - 1s - loss: 2.2921 - accuracy: 0.1086 - 1s/epoch - 6ms/step\n"
     ]
    },
    {
     "data": {
      "text/plain": [
       "[2.292078733444214, 0.10864197462797165]"
      ]
     },
     "execution_count": 34,
     "metadata": {},
     "output_type": "execute_result"
    }
   ],
   "source": [
    "model.evaluate(x_test,  y_test, verbose=2)"
   ]
  },
  {
   "attachments": {},
   "cell_type": "markdown",
   "metadata": {
    "id": "Aj8NrlzlJqDG"
   },
   "source": [
    "We can return probabilities for the predictions by attaching a softmax to the trained model."
   ]
  },
  {
   "cell_type": "code",
   "execution_count": 35,
   "metadata": {
    "id": "rYb6DrEH0GMv"
   },
   "outputs": [],
   "source": [
    "probability_model = tf.keras.Sequential([\n",
    "  model,\n",
    "  tf.keras.layers.Softmax()\n",
    "])"
   ]
  },
  {
   "cell_type": "code",
   "execution_count": 36,
   "metadata": {
    "colab": {
     "base_uri": "https://localhost:8080/"
    },
    "id": "cnqOZtUp1YR_",
    "outputId": "fd253072-a29c-49e3-cbb5-c1b8abb4c8c6"
   },
   "outputs": [
    {
     "data": {
      "text/plain": [
       "<tf.Tensor: shape=(5, 10), dtype=float32, numpy=\n",
       "array([[0.10704215, 0.11007525, 0.11094362, 0.09210668, 0.09329496,\n",
       "        0.0771283 , 0.09272404, 0.112649  , 0.09282223, 0.11121381],\n",
       "       [0.10704215, 0.11007525, 0.11094362, 0.09210668, 0.09329496,\n",
       "        0.0771283 , 0.09272404, 0.112649  , 0.09282223, 0.11121381],\n",
       "       [0.10704215, 0.11007525, 0.11094362, 0.09210668, 0.09329496,\n",
       "        0.0771283 , 0.09272404, 0.112649  , 0.09282223, 0.11121381],\n",
       "       [0.10704215, 0.11007525, 0.11094362, 0.09210668, 0.09329496,\n",
       "        0.0771283 , 0.09272404, 0.112649  , 0.09282223, 0.11121381],\n",
       "       [0.10704215, 0.11007525, 0.11094362, 0.09210668, 0.09329496,\n",
       "        0.0771283 , 0.09272404, 0.112649  , 0.09282222, 0.11121381]],\n",
       "      dtype=float32)>"
      ]
     },
     "execution_count": 36,
     "metadata": {},
     "output_type": "execute_result"
    }
   ],
   "source": [
    "probability_model(x_test[:5])"
   ]
  },
  {
   "attachments": {},
   "cell_type": "markdown",
   "metadata": {
    "id": "7NAbSZiaoJ4z"
   },
   "source": [
    "## Load a dataset, part 2 (option 2)\n",
    "\n",
    "Load and prepare the [Drone Imagery Classification Training Dataset for Crop Types in Rwanda dataset from Radiant Earth](https://mlhub.earth/data/rti_rwanda_crop_type). You'll need a Radiant Earth MLHub API key for this."
   ]
  },
  {
   "cell_type": "code",
   "execution_count": null,
   "metadata": {
    "id": "7TdKCX7BbzPt"
   },
   "outputs": [],
   "source": [
    "# configure Radiant Earth MLHub access\n",
    "!mlhub configure"
   ]
  },
  {
   "cell_type": "code",
   "execution_count": 5,
   "metadata": {
    "colab": {
     "base_uri": "https://localhost:8080/"
    },
    "id": "9G2PGwQ6bXaM",
    "outputId": "eff92488-c321-4b20-82b8-c20cb8c0edd3"
   },
   "outputs": [
    {
     "name": "stdout",
     "output_type": "stream",
     "text": [
      "rti_rwanda_crop_type_labels\n",
      "rti_rwanda_crop_type_source\n",
      "rti_rwanda_crop_type_raw\n"
     ]
    }
   ],
   "source": [
    "ds = Dataset.fetch('rti_rwanda_crop_type')\n",
    "for c in ds.collections:\n",
    "    print(c.id)\n"
   ]
  },
  {
   "cell_type": "code",
   "execution_count": 19,
   "metadata": {
    "colab": {
     "base_uri": "https://localhost:8080/",
     "height": 295,
     "referenced_widgets": [
      "22bac9967ab44c29b3dde71615923fd7",
      "706a7aa97f824467afa172c26118a74f",
      "550f822c71834bc693c2e388ac889c52",
      "aa7778c01bb34450abf7e82046a21464",
      "59dbf57a5b4145b6b2933835095697bf",
      "57c7e8a0c8e94b06a83da2e486108bab",
      "8590de1a139543c3a3488dfbde6bd76b",
      "3a4f8326a186498abd66dde7de3fc5c5",
      "40669f968394464d8229bb116446cdaa",
      "63998809fc644c7a89f7c0ef89c00672",
      "81849272dd164f4fa7bb5f10ddab9344",
      "38bb0b2fe2b54a78868f10050d4dd4b0",
      "d6abd5a8b5fd4649b5e0a7c0a115e463",
      "cedcf42aa36543f8a4bb30e8e3d30f34",
      "240dfed21dc243d4924bb1499d831f16",
      "faa3c7f677dc4cc382b4ab0163c8a180",
      "23fb3737070f4bc0aab2ab40d346318a",
      "281be11a4df74da7b3ab94f6d85cca05",
      "9d32cd7603c142349d3ba14227daaee1",
      "c33277eb55de470ab4abcf65dce5afa7",
      "7d10bf4cdc0a43ed88b18383cf9ec058",
      "b0b25a9724fd4bbb92da8841b330a5a1"
     ]
    },
    "id": "6ZQ3mrTEcihQ",
    "outputId": "0b1eadc6-d4b1-4b68-9c03-b4f4c3f4a60a"
   },
   "outputs": [
    {
     "name": "stdout",
     "output_type": "stream",
     "text": [
      "Downloading rti_rwanda_crop_type_labels...\n"
     ]
    },
    {
     "data": {
      "application/vnd.jupyter.widget-view+json": {
       "model_id": "22bac9967ab44c29b3dde71615923fd7",
       "version_major": 2,
       "version_minor": 0
      },
      "text/plain": [
       "  0%|          | 0/0.8 [00:00<?, ?M/s]"
      ]
     },
     "metadata": {},
     "output_type": "display_data"
    },
    {
     "name": "stdout",
     "output_type": "stream",
     "text": [
      "Downloading rti_rwanda_crop_type_source...\n"
     ]
    },
    {
     "data": {
      "application/vnd.jupyter.widget-view+json": {
       "model_id": "38bb0b2fe2b54a78868f10050d4dd4b0",
       "version_major": 2,
       "version_minor": 0
      },
      "text/plain": [
       "  0%|          | 0/104.5 [00:00<?, ?M/s]"
      ]
     },
     "metadata": {},
     "output_type": "display_data"
    },
    {
     "name": "stderr",
     "output_type": "stream",
     "text": [
      "WARNING:urllib3.connectionpool:Connection pool is full, discarding connection: radiantearth.blob.core.windows.net. Connection pool size: 10\n",
      "WARNING:urllib3.connectionpool:Connection pool is full, discarding connection: radiantearth.blob.core.windows.net. Connection pool size: 10\n",
      "WARNING:urllib3.connectionpool:Connection pool is full, discarding connection: radiantearth.blob.core.windows.net. Connection pool size: 10\n",
      "WARNING:urllib3.connectionpool:Connection pool is full, discarding connection: radiantearth.blob.core.windows.net. Connection pool size: 10\n",
      "WARNING:urllib3.connectionpool:Connection pool is full, discarding connection: radiantearth.blob.core.windows.net. Connection pool size: 10\n",
      "WARNING:urllib3.connectionpool:Connection pool is full, discarding connection: radiantearth.blob.core.windows.net. Connection pool size: 10\n",
      "WARNING:urllib3.connectionpool:Connection pool is full, discarding connection: radiantearth.blob.core.windows.net. Connection pool size: 10\n",
      "WARNING:urllib3.connectionpool:Connection pool is full, discarding connection: radiantearth.blob.core.windows.net. Connection pool size: 10\n",
      "WARNING:urllib3.connectionpool:Connection pool is full, discarding connection: radiantearth.blob.core.windows.net. Connection pool size: 10\n",
      "WARNING:urllib3.connectionpool:Connection pool is full, discarding connection: radiantearth.blob.core.windows.net. Connection pool size: 10\n"
     ]
    }
   ],
   "source": [
    "collections = [\n",
    "    'rti_rwanda_crop_type_labels',\n",
    "    'rti_rwanda_crop_type_source'\n",
    "]\n",
    "\n",
    "def download(collection_id):\n",
    "    print(f'Downloading {collection_id}...')\n",
    "    collection = Collection.fetch(collection_id)\n",
    "    path = collection.download('.')\n",
    "    tar = tarfile.open(path, \"r:gz\")\n",
    "    tar.extractall()\n",
    "    tar.close()\n",
    "    os.remove(path)\n",
    "\n",
    "def resolve_path(base, path):\n",
    "    return Path(os.path.join(base, path)).resolve()\n",
    "\n",
    "def load_df(collection_id):\n",
    "    collection = json.load(open(f'{collection_id}/collection.json', 'r'))\n",
    "    rows = []\n",
    "    item_links = []\n",
    "    for link in collection['links']:\n",
    "        if link['rel'] != 'item':\n",
    "            continue\n",
    "        item_links.append(link['href'])\n",
    "    for item_link in item_links:\n",
    "        item_path = f'{collection_id}/{item_link}'\n",
    "        current_path = os.path.dirname(item_path)\n",
    "        item = json.load(open(item_path, 'r'))\n",
    "        tile_id = item['id'].split('_')[-1]\n",
    "        for asset_key, asset in item['assets'].items():\n",
    "            rows.append([\n",
    "                tile_id,\n",
    "                None,\n",
    "                None,\n",
    "                asset_key,\n",
    "                str(resolve_path(current_path, asset['href']))\n",
    "            ])\n",
    "\n",
    "        for link in item['links']:\n",
    "            if link['rel'] != 'source':\n",
    "                continue\n",
    "            link_path = resolve_path(current_path, link['href'])\n",
    "            source_path = os.path.dirname(link_path)\n",
    "            try:\n",
    "                source_item = json.load(open(link_path, 'r'))\n",
    "            except FileNotFoundError:\n",
    "                continue\n",
    "            datetime = source_item['properties']['datetime']\n",
    "            satellite_platform = source_item['collection'].split('_')[-1]\n",
    "            for asset_key, asset in source_item['assets'].items():\n",
    "                rows.append([\n",
    "                    tile_id,\n",
    "                    datetime,\n",
    "                    satellite_platform,\n",
    "                    asset_key,\n",
    "                    str(resolve_path(source_path, asset['href']))\n",
    "                ])\n",
    "    return pd.DataFrame(rows, columns=['tile_id', 'datetime', 'satellite_platform', 'asset', 'file_path'])\n",
    "\n",
    "for c in collections:\n",
    "    download(c)\n",
    "\n",
    "train_df = load_df('rti_rwanda_crop_type_labels')\n",
    "#test_df = load_df('rti_rwanda_crop_type_labels')"
   ]
  },
  {
   "cell_type": "code",
   "execution_count": 158,
   "metadata": {
    "colab": {
     "base_uri": "https://localhost:8080/"
    },
    "id": "ged41qF5fTDf",
    "outputId": "f61340fe-a255-4712-e4a5-8bca85c209f7"
   },
   "outputs": [
    {
     "name": "stdout",
     "output_type": "stream",
     "text": [
      "  class_names  class_ids\n",
      "0       other          0\n",
      "1      banana          1\n",
      "2       maize          2\n",
      "3     legumes          3\n",
      "4      forest          4\n",
      "5   structure          5\n"
     ]
    }
   ],
   "source": [
    "# Read the classes\n",
    "pd.set_option('display.max_colwidth', None)\n",
    "\n",
    "data = {'class_names':  ['other', 'banana', 'maize', 'legumes', 'forest', 'structure'],\n",
    "        'class_ids': [0, 1, 2, 3, 4, 5]\n",
    "        }\n",
    "\n",
    "classes = pd.DataFrame(data)\n",
    "print(classes)\n",
    "\n",
    "classes.to_csv('rti_rwanda_crop_type_classes.csv')"
   ]
  },
  {
   "cell_type": "code",
   "execution_count": 42,
   "metadata": {
    "id": "98y_TMJwlNBV"
   },
   "outputs": [],
   "source": [
    "train_df_labels = train_df.loc[train_df['asset'] == 'labels']"
   ]
  },
  {
   "cell_type": "code",
   "execution_count": 43,
   "metadata": {
    "id": "iQbHIO1mhOgc"
   },
   "outputs": [],
   "source": [
    "data_train, data_test = train_test_split(train_df_labels, test_size=0.3, random_state=1)"
   ]
  },
  {
   "cell_type": "code",
   "execution_count": 44,
   "metadata": {
    "colab": {
     "base_uri": "https://localhost:8080/"
    },
    "id": "fN6xVJWYh2yE",
    "outputId": "70261c7a-595d-4977-8574-82234613d93c"
   },
   "outputs": [
    {
     "data": {
      "text/plain": [
       "(1824, 782)"
      ]
     },
     "execution_count": 44,
     "metadata": {},
     "output_type": "execute_result"
    }
   ],
   "source": [
    "len(data_train), len(data_test)"
   ]
  },
  {
   "cell_type": "code",
   "execution_count": null,
   "metadata": {
    "id": "fN3A2XWE6OYW"
   },
   "outputs": [],
   "source": [
    "def get_RE_train_test(dataset, image_array_list, label_integer_list):\n",
    "  for i, r in data_train.iterrows():\n",
    "    label_path = r.file_path\n",
    "    with open(label_path) as f:\n",
    "      label_obj = json.load(f)\n",
    "    label_str = label_obj['label']\n",
    "    label_int = classes.loc[classes['class_names'] == label_str, 'class_ids'].squeeze()\n",
    "    label_integer_list.append(label_int)\n",
    "    image_path = label_path.replace('labels', 'source')\n",
    "    image_path = image_path.replace('source.json', '')\n",
    "    image_obj = np.array(Image.open(f\"{image_path}/image.png\"))\n",
    "    image_array_list.append(image_obj)\n",
    "  return image_array_list, label_integer_list"
   ]
  },
  {
   "cell_type": "code",
   "execution_count": 180,
   "metadata": {
    "id": "STp8HJ0dl_Mv"
   },
   "outputs": [],
   "source": [
    "train_image_arrays = []\n",
    "train_label_integers = []\n",
    "\n",
    "train_image_arrays, train_label_integers = get_RE_train_test(data_train, train_image_arrays, train_label_integers)"
   ]
  },
  {
   "cell_type": "code",
   "execution_count": 182,
   "metadata": {
    "id": "p6xKWjr7nrTW"
   },
   "outputs": [],
   "source": [
    "test_image_arrays = []\n",
    "test_label_integers = []\n",
    "\n",
    "test_image_arrays, test_label_integers = get_RE_train_test(data_test, test_image_arrays, test_label_integers)"
   ]
  },
  {
   "cell_type": "code",
   "execution_count": 183,
   "metadata": {
    "colab": {
     "base_uri": "https://localhost:8080/"
    },
    "id": "jyVgNxWD3wNq",
    "outputId": "b2877ce8-ac38-4232-99c5-12837719515e"
   },
   "outputs": [
    {
     "data": {
      "text/plain": [
       "({0, 1, 2, 3, 4, 5}, {0, 1, 2, 3, 4, 5})"
      ]
     },
     "execution_count": 183,
     "metadata": {},
     "output_type": "execute_result"
    }
   ],
   "source": [
    "set(train_label_integers), set(test_label_integers)"
   ]
  },
  {
   "cell_type": "code",
   "execution_count": 184,
   "metadata": {
    "id": "w2-hUSfKzjUk"
   },
   "outputs": [],
   "source": [
    "x_train, y_train = np.array(train_image_arrays), np.array(train_label_integers)\n",
    "x_test, y_test = np.array(test_image_arrays), np.array(test_label_integers)"
   ]
  },
  {
   "cell_type": "code",
   "execution_count": null,
   "metadata": {
    "id": "5JLfbwx-BG9b"
   },
   "outputs": [],
   "source": [
    "inout_shape = (200, 200, 3)\n",
    "num_classes = 6"
   ]
  },
  {
   "cell_type": "code",
   "execution_count": null,
   "metadata": {
    "id": "q3eKjiZPCvWm"
   },
   "outputs": [],
   "source": [
    "model = tf.keras.models.Sequential([\n",
    "  tf.keras.layers.Flatten(input_shape=input_shape),\n",
    "  tf.keras.layers.Dense(128, activation='relu'),\n",
    "  tf.keras.layers.Dropout(0.2),\n",
    "  tf.keras.layers.Dense(num_classes)\n",
    "])\n",
    "\n",
    "loss_fn = tf.keras.losses.SparseCategoricalCrossentropy(from_logits=True)\n",
    "\n",
    "model.compile(optimizer='adam',\n",
    "              loss=loss_fn,\n",
    "              metrics=['accuracy'])"
   ]
  },
  {
   "cell_type": "code",
   "execution_count": null,
   "metadata": {
    "id": "PeZmd11-C8LZ"
   },
   "outputs": [],
   "source": [
    "model.fit(x_train, y_train, epochs=5)"
   ]
  },
  {
   "cell_type": "code",
   "execution_count": null,
   "metadata": {
    "id": "rqpdSDgoC8nK"
   },
   "outputs": [],
   "source": [
    "model.evaluate(x_test,  y_test, verbose=2)"
   ]
  },
  {
   "cell_type": "code",
   "execution_count": null,
   "metadata": {
    "id": "IlE4nHBUDCal"
   },
   "outputs": [],
   "source": [
    "probability_model = tf.keras.Sequential([\n",
    "  model,\n",
    "  tf.keras.layers.Softmax()\n",
    "])"
   ]
  },
  {
   "cell_type": "code",
   "execution_count": null,
   "metadata": {
    "id": "yJgFtl4gDE4g"
   },
   "outputs": [],
   "source": [
    "probability_model(x_test[:5])"
   ]
  }
 ],
 "metadata": {
  "colab": {
   "provenance": []
  },
  "kernelspec": {
   "display_name": "Python 3",
   "name": "python3"
  },
  "widgets": {
   "application/vnd.jupyter.widget-state+json": {
    "22bac9967ab44c29b3dde71615923fd7": {
     "model_module": "@jupyter-widgets/controls",
     "model_module_version": "1.5.0",
     "model_name": "HBoxModel",
     "state": {
      "_dom_classes": [],
      "_model_module": "@jupyter-widgets/controls",
      "_model_module_version": "1.5.0",
      "_model_name": "HBoxModel",
      "_view_count": null,
      "_view_module": "@jupyter-widgets/controls",
      "_view_module_version": "1.5.0",
      "_view_name": "HBoxView",
      "box_style": "",
      "children": [
       "IPY_MODEL_706a7aa97f824467afa172c26118a74f",
       "IPY_MODEL_550f822c71834bc693c2e388ac889c52",
       "IPY_MODEL_aa7778c01bb34450abf7e82046a21464"
      ],
      "layout": "IPY_MODEL_59dbf57a5b4145b6b2933835095697bf"
     }
    },
    "23fb3737070f4bc0aab2ab40d346318a": {
     "model_module": "@jupyter-widgets/base",
     "model_module_version": "1.2.0",
     "model_name": "LayoutModel",
     "state": {
      "_model_module": "@jupyter-widgets/base",
      "_model_module_version": "1.2.0",
      "_model_name": "LayoutModel",
      "_view_count": null,
      "_view_module": "@jupyter-widgets/base",
      "_view_module_version": "1.2.0",
      "_view_name": "LayoutView",
      "align_content": null,
      "align_items": null,
      "align_self": null,
      "border": null,
      "bottom": null,
      "display": null,
      "flex": null,
      "flex_flow": null,
      "grid_area": null,
      "grid_auto_columns": null,
      "grid_auto_flow": null,
      "grid_auto_rows": null,
      "grid_column": null,
      "grid_gap": null,
      "grid_row": null,
      "grid_template_areas": null,
      "grid_template_columns": null,
      "grid_template_rows": null,
      "height": null,
      "justify_content": null,
      "justify_items": null,
      "left": null,
      "margin": null,
      "max_height": null,
      "max_width": null,
      "min_height": null,
      "min_width": null,
      "object_fit": null,
      "object_position": null,
      "order": null,
      "overflow": null,
      "overflow_x": null,
      "overflow_y": null,
      "padding": null,
      "right": null,
      "top": null,
      "visibility": null,
      "width": null
     }
    },
    "240dfed21dc243d4924bb1499d831f16": {
     "model_module": "@jupyter-widgets/controls",
     "model_module_version": "1.5.0",
     "model_name": "HTMLModel",
     "state": {
      "_dom_classes": [],
      "_model_module": "@jupyter-widgets/controls",
      "_model_module_version": "1.5.0",
      "_model_name": "HTMLModel",
      "_view_count": null,
      "_view_module": "@jupyter-widgets/controls",
      "_view_module_version": "1.5.0",
      "_view_name": "HTMLView",
      "description": "",
      "description_tooltip": null,
      "layout": "IPY_MODEL_7d10bf4cdc0a43ed88b18383cf9ec058",
      "placeholder": "​",
      "style": "IPY_MODEL_b0b25a9724fd4bbb92da8841b330a5a1",
      "value": " 105.0/? [00:02&lt;00:00, 67.55M/s]"
     }
    },
    "281be11a4df74da7b3ab94f6d85cca05": {
     "model_module": "@jupyter-widgets/controls",
     "model_module_version": "1.5.0",
     "model_name": "DescriptionStyleModel",
     "state": {
      "_model_module": "@jupyter-widgets/controls",
      "_model_module_version": "1.5.0",
      "_model_name": "DescriptionStyleModel",
      "_view_count": null,
      "_view_module": "@jupyter-widgets/base",
      "_view_module_version": "1.2.0",
      "_view_name": "StyleView",
      "description_width": ""
     }
    },
    "38bb0b2fe2b54a78868f10050d4dd4b0": {
     "model_module": "@jupyter-widgets/controls",
     "model_module_version": "1.5.0",
     "model_name": "HBoxModel",
     "state": {
      "_dom_classes": [],
      "_model_module": "@jupyter-widgets/controls",
      "_model_module_version": "1.5.0",
      "_model_name": "HBoxModel",
      "_view_count": null,
      "_view_module": "@jupyter-widgets/controls",
      "_view_module_version": "1.5.0",
      "_view_name": "HBoxView",
      "box_style": "",
      "children": [
       "IPY_MODEL_d6abd5a8b5fd4649b5e0a7c0a115e463",
       "IPY_MODEL_cedcf42aa36543f8a4bb30e8e3d30f34",
       "IPY_MODEL_240dfed21dc243d4924bb1499d831f16"
      ],
      "layout": "IPY_MODEL_faa3c7f677dc4cc382b4ab0163c8a180"
     }
    },
    "3a4f8326a186498abd66dde7de3fc5c5": {
     "model_module": "@jupyter-widgets/base",
     "model_module_version": "1.2.0",
     "model_name": "LayoutModel",
     "state": {
      "_model_module": "@jupyter-widgets/base",
      "_model_module_version": "1.2.0",
      "_model_name": "LayoutModel",
      "_view_count": null,
      "_view_module": "@jupyter-widgets/base",
      "_view_module_version": "1.2.0",
      "_view_name": "LayoutView",
      "align_content": null,
      "align_items": null,
      "align_self": null,
      "border": null,
      "bottom": null,
      "display": null,
      "flex": null,
      "flex_flow": null,
      "grid_area": null,
      "grid_auto_columns": null,
      "grid_auto_flow": null,
      "grid_auto_rows": null,
      "grid_column": null,
      "grid_gap": null,
      "grid_row": null,
      "grid_template_areas": null,
      "grid_template_columns": null,
      "grid_template_rows": null,
      "height": null,
      "justify_content": null,
      "justify_items": null,
      "left": null,
      "margin": null,
      "max_height": null,
      "max_width": null,
      "min_height": null,
      "min_width": null,
      "object_fit": null,
      "object_position": null,
      "order": null,
      "overflow": null,
      "overflow_x": null,
      "overflow_y": null,
      "padding": null,
      "right": null,
      "top": null,
      "visibility": null,
      "width": null
     }
    },
    "40669f968394464d8229bb116446cdaa": {
     "model_module": "@jupyter-widgets/controls",
     "model_module_version": "1.5.0",
     "model_name": "ProgressStyleModel",
     "state": {
      "_model_module": "@jupyter-widgets/controls",
      "_model_module_version": "1.5.0",
      "_model_name": "ProgressStyleModel",
      "_view_count": null,
      "_view_module": "@jupyter-widgets/base",
      "_view_module_version": "1.2.0",
      "_view_name": "StyleView",
      "bar_color": null,
      "description_width": ""
     }
    },
    "550f822c71834bc693c2e388ac889c52": {
     "model_module": "@jupyter-widgets/controls",
     "model_module_version": "1.5.0",
     "model_name": "FloatProgressModel",
     "state": {
      "_dom_classes": [],
      "_model_module": "@jupyter-widgets/controls",
      "_model_module_version": "1.5.0",
      "_model_name": "FloatProgressModel",
      "_view_count": null,
      "_view_module": "@jupyter-widgets/controls",
      "_view_module_version": "1.5.0",
      "_view_name": "ProgressView",
      "bar_style": "success",
      "description": "",
      "description_tooltip": null,
      "layout": "IPY_MODEL_3a4f8326a186498abd66dde7de3fc5c5",
      "max": 0.8,
      "min": 0,
      "orientation": "horizontal",
      "style": "IPY_MODEL_40669f968394464d8229bb116446cdaa",
      "value": 0.8
     }
    },
    "57c7e8a0c8e94b06a83da2e486108bab": {
     "model_module": "@jupyter-widgets/base",
     "model_module_version": "1.2.0",
     "model_name": "LayoutModel",
     "state": {
      "_model_module": "@jupyter-widgets/base",
      "_model_module_version": "1.2.0",
      "_model_name": "LayoutModel",
      "_view_count": null,
      "_view_module": "@jupyter-widgets/base",
      "_view_module_version": "1.2.0",
      "_view_name": "LayoutView",
      "align_content": null,
      "align_items": null,
      "align_self": null,
      "border": null,
      "bottom": null,
      "display": null,
      "flex": null,
      "flex_flow": null,
      "grid_area": null,
      "grid_auto_columns": null,
      "grid_auto_flow": null,
      "grid_auto_rows": null,
      "grid_column": null,
      "grid_gap": null,
      "grid_row": null,
      "grid_template_areas": null,
      "grid_template_columns": null,
      "grid_template_rows": null,
      "height": null,
      "justify_content": null,
      "justify_items": null,
      "left": null,
      "margin": null,
      "max_height": null,
      "max_width": null,
      "min_height": null,
      "min_width": null,
      "object_fit": null,
      "object_position": null,
      "order": null,
      "overflow": null,
      "overflow_x": null,
      "overflow_y": null,
      "padding": null,
      "right": null,
      "top": null,
      "visibility": null,
      "width": null
     }
    },
    "59dbf57a5b4145b6b2933835095697bf": {
     "model_module": "@jupyter-widgets/base",
     "model_module_version": "1.2.0",
     "model_name": "LayoutModel",
     "state": {
      "_model_module": "@jupyter-widgets/base",
      "_model_module_version": "1.2.0",
      "_model_name": "LayoutModel",
      "_view_count": null,
      "_view_module": "@jupyter-widgets/base",
      "_view_module_version": "1.2.0",
      "_view_name": "LayoutView",
      "align_content": null,
      "align_items": null,
      "align_self": null,
      "border": null,
      "bottom": null,
      "display": null,
      "flex": null,
      "flex_flow": null,
      "grid_area": null,
      "grid_auto_columns": null,
      "grid_auto_flow": null,
      "grid_auto_rows": null,
      "grid_column": null,
      "grid_gap": null,
      "grid_row": null,
      "grid_template_areas": null,
      "grid_template_columns": null,
      "grid_template_rows": null,
      "height": null,
      "justify_content": null,
      "justify_items": null,
      "left": null,
      "margin": null,
      "max_height": null,
      "max_width": null,
      "min_height": null,
      "min_width": null,
      "object_fit": null,
      "object_position": null,
      "order": null,
      "overflow": null,
      "overflow_x": null,
      "overflow_y": null,
      "padding": null,
      "right": null,
      "top": null,
      "visibility": null,
      "width": null
     }
    },
    "63998809fc644c7a89f7c0ef89c00672": {
     "model_module": "@jupyter-widgets/base",
     "model_module_version": "1.2.0",
     "model_name": "LayoutModel",
     "state": {
      "_model_module": "@jupyter-widgets/base",
      "_model_module_version": "1.2.0",
      "_model_name": "LayoutModel",
      "_view_count": null,
      "_view_module": "@jupyter-widgets/base",
      "_view_module_version": "1.2.0",
      "_view_name": "LayoutView",
      "align_content": null,
      "align_items": null,
      "align_self": null,
      "border": null,
      "bottom": null,
      "display": null,
      "flex": null,
      "flex_flow": null,
      "grid_area": null,
      "grid_auto_columns": null,
      "grid_auto_flow": null,
      "grid_auto_rows": null,
      "grid_column": null,
      "grid_gap": null,
      "grid_row": null,
      "grid_template_areas": null,
      "grid_template_columns": null,
      "grid_template_rows": null,
      "height": null,
      "justify_content": null,
      "justify_items": null,
      "left": null,
      "margin": null,
      "max_height": null,
      "max_width": null,
      "min_height": null,
      "min_width": null,
      "object_fit": null,
      "object_position": null,
      "order": null,
      "overflow": null,
      "overflow_x": null,
      "overflow_y": null,
      "padding": null,
      "right": null,
      "top": null,
      "visibility": null,
      "width": null
     }
    },
    "706a7aa97f824467afa172c26118a74f": {
     "model_module": "@jupyter-widgets/controls",
     "model_module_version": "1.5.0",
     "model_name": "HTMLModel",
     "state": {
      "_dom_classes": [],
      "_model_module": "@jupyter-widgets/controls",
      "_model_module_version": "1.5.0",
      "_model_name": "HTMLModel",
      "_view_count": null,
      "_view_module": "@jupyter-widgets/controls",
      "_view_module_version": "1.5.0",
      "_view_name": "HTMLView",
      "description": "",
      "description_tooltip": null,
      "layout": "IPY_MODEL_57c7e8a0c8e94b06a83da2e486108bab",
      "placeholder": "​",
      "style": "IPY_MODEL_8590de1a139543c3a3488dfbde6bd76b",
      "value": ""
     }
    },
    "7d10bf4cdc0a43ed88b18383cf9ec058": {
     "model_module": "@jupyter-widgets/base",
     "model_module_version": "1.2.0",
     "model_name": "LayoutModel",
     "state": {
      "_model_module": "@jupyter-widgets/base",
      "_model_module_version": "1.2.0",
      "_model_name": "LayoutModel",
      "_view_count": null,
      "_view_module": "@jupyter-widgets/base",
      "_view_module_version": "1.2.0",
      "_view_name": "LayoutView",
      "align_content": null,
      "align_items": null,
      "align_self": null,
      "border": null,
      "bottom": null,
      "display": null,
      "flex": null,
      "flex_flow": null,
      "grid_area": null,
      "grid_auto_columns": null,
      "grid_auto_flow": null,
      "grid_auto_rows": null,
      "grid_column": null,
      "grid_gap": null,
      "grid_row": null,
      "grid_template_areas": null,
      "grid_template_columns": null,
      "grid_template_rows": null,
      "height": null,
      "justify_content": null,
      "justify_items": null,
      "left": null,
      "margin": null,
      "max_height": null,
      "max_width": null,
      "min_height": null,
      "min_width": null,
      "object_fit": null,
      "object_position": null,
      "order": null,
      "overflow": null,
      "overflow_x": null,
      "overflow_y": null,
      "padding": null,
      "right": null,
      "top": null,
      "visibility": null,
      "width": null
     }
    },
    "81849272dd164f4fa7bb5f10ddab9344": {
     "model_module": "@jupyter-widgets/controls",
     "model_module_version": "1.5.0",
     "model_name": "DescriptionStyleModel",
     "state": {
      "_model_module": "@jupyter-widgets/controls",
      "_model_module_version": "1.5.0",
      "_model_name": "DescriptionStyleModel",
      "_view_count": null,
      "_view_module": "@jupyter-widgets/base",
      "_view_module_version": "1.2.0",
      "_view_name": "StyleView",
      "description_width": ""
     }
    },
    "8590de1a139543c3a3488dfbde6bd76b": {
     "model_module": "@jupyter-widgets/controls",
     "model_module_version": "1.5.0",
     "model_name": "DescriptionStyleModel",
     "state": {
      "_model_module": "@jupyter-widgets/controls",
      "_model_module_version": "1.5.0",
      "_model_name": "DescriptionStyleModel",
      "_view_count": null,
      "_view_module": "@jupyter-widgets/base",
      "_view_module_version": "1.2.0",
      "_view_name": "StyleView",
      "description_width": ""
     }
    },
    "9d32cd7603c142349d3ba14227daaee1": {
     "model_module": "@jupyter-widgets/base",
     "model_module_version": "1.2.0",
     "model_name": "LayoutModel",
     "state": {
      "_model_module": "@jupyter-widgets/base",
      "_model_module_version": "1.2.0",
      "_model_name": "LayoutModel",
      "_view_count": null,
      "_view_module": "@jupyter-widgets/base",
      "_view_module_version": "1.2.0",
      "_view_name": "LayoutView",
      "align_content": null,
      "align_items": null,
      "align_self": null,
      "border": null,
      "bottom": null,
      "display": null,
      "flex": null,
      "flex_flow": null,
      "grid_area": null,
      "grid_auto_columns": null,
      "grid_auto_flow": null,
      "grid_auto_rows": null,
      "grid_column": null,
      "grid_gap": null,
      "grid_row": null,
      "grid_template_areas": null,
      "grid_template_columns": null,
      "grid_template_rows": null,
      "height": null,
      "justify_content": null,
      "justify_items": null,
      "left": null,
      "margin": null,
      "max_height": null,
      "max_width": null,
      "min_height": null,
      "min_width": null,
      "object_fit": null,
      "object_position": null,
      "order": null,
      "overflow": null,
      "overflow_x": null,
      "overflow_y": null,
      "padding": null,
      "right": null,
      "top": null,
      "visibility": null,
      "width": null
     }
    },
    "aa7778c01bb34450abf7e82046a21464": {
     "model_module": "@jupyter-widgets/controls",
     "model_module_version": "1.5.0",
     "model_name": "HTMLModel",
     "state": {
      "_dom_classes": [],
      "_model_module": "@jupyter-widgets/controls",
      "_model_module_version": "1.5.0",
      "_model_name": "HTMLModel",
      "_view_count": null,
      "_view_module": "@jupyter-widgets/controls",
      "_view_module_version": "1.5.0",
      "_view_name": "HTMLView",
      "description": "",
      "description_tooltip": null,
      "layout": "IPY_MODEL_63998809fc644c7a89f7c0ef89c00672",
      "placeholder": "​",
      "style": "IPY_MODEL_81849272dd164f4fa7bb5f10ddab9344",
      "value": " 5.0/? [00:01&lt;00:00,  4.98M/s]"
     }
    },
    "b0b25a9724fd4bbb92da8841b330a5a1": {
     "model_module": "@jupyter-widgets/controls",
     "model_module_version": "1.5.0",
     "model_name": "DescriptionStyleModel",
     "state": {
      "_model_module": "@jupyter-widgets/controls",
      "_model_module_version": "1.5.0",
      "_model_name": "DescriptionStyleModel",
      "_view_count": null,
      "_view_module": "@jupyter-widgets/base",
      "_view_module_version": "1.2.0",
      "_view_name": "StyleView",
      "description_width": ""
     }
    },
    "c33277eb55de470ab4abcf65dce5afa7": {
     "model_module": "@jupyter-widgets/controls",
     "model_module_version": "1.5.0",
     "model_name": "ProgressStyleModel",
     "state": {
      "_model_module": "@jupyter-widgets/controls",
      "_model_module_version": "1.5.0",
      "_model_name": "ProgressStyleModel",
      "_view_count": null,
      "_view_module": "@jupyter-widgets/base",
      "_view_module_version": "1.2.0",
      "_view_name": "StyleView",
      "bar_color": null,
      "description_width": ""
     }
    },
    "cedcf42aa36543f8a4bb30e8e3d30f34": {
     "model_module": "@jupyter-widgets/controls",
     "model_module_version": "1.5.0",
     "model_name": "FloatProgressModel",
     "state": {
      "_dom_classes": [],
      "_model_module": "@jupyter-widgets/controls",
      "_model_module_version": "1.5.0",
      "_model_name": "FloatProgressModel",
      "_view_count": null,
      "_view_module": "@jupyter-widgets/controls",
      "_view_module_version": "1.5.0",
      "_view_name": "ProgressView",
      "bar_style": "success",
      "description": "",
      "description_tooltip": null,
      "layout": "IPY_MODEL_9d32cd7603c142349d3ba14227daaee1",
      "max": 104.5,
      "min": 0,
      "orientation": "horizontal",
      "style": "IPY_MODEL_c33277eb55de470ab4abcf65dce5afa7",
      "value": 104.5
     }
    },
    "d6abd5a8b5fd4649b5e0a7c0a115e463": {
     "model_module": "@jupyter-widgets/controls",
     "model_module_version": "1.5.0",
     "model_name": "HTMLModel",
     "state": {
      "_dom_classes": [],
      "_model_module": "@jupyter-widgets/controls",
      "_model_module_version": "1.5.0",
      "_model_name": "HTMLModel",
      "_view_count": null,
      "_view_module": "@jupyter-widgets/controls",
      "_view_module_version": "1.5.0",
      "_view_name": "HTMLView",
      "description": "",
      "description_tooltip": null,
      "layout": "IPY_MODEL_23fb3737070f4bc0aab2ab40d346318a",
      "placeholder": "​",
      "style": "IPY_MODEL_281be11a4df74da7b3ab94f6d85cca05",
      "value": ""
     }
    },
    "faa3c7f677dc4cc382b4ab0163c8a180": {
     "model_module": "@jupyter-widgets/base",
     "model_module_version": "1.2.0",
     "model_name": "LayoutModel",
     "state": {
      "_model_module": "@jupyter-widgets/base",
      "_model_module_version": "1.2.0",
      "_model_name": "LayoutModel",
      "_view_count": null,
      "_view_module": "@jupyter-widgets/base",
      "_view_module_version": "1.2.0",
      "_view_name": "LayoutView",
      "align_content": null,
      "align_items": null,
      "align_self": null,
      "border": null,
      "bottom": null,
      "display": null,
      "flex": null,
      "flex_flow": null,
      "grid_area": null,
      "grid_auto_columns": null,
      "grid_auto_flow": null,
      "grid_auto_rows": null,
      "grid_column": null,
      "grid_gap": null,
      "grid_row": null,
      "grid_template_areas": null,
      "grid_template_columns": null,
      "grid_template_rows": null,
      "height": null,
      "justify_content": null,
      "justify_items": null,
      "left": null,
      "margin": null,
      "max_height": null,
      "max_width": null,
      "min_height": null,
      "min_width": null,
      "object_fit": null,
      "object_position": null,
      "order": null,
      "overflow": null,
      "overflow_x": null,
      "overflow_y": null,
      "padding": null,
      "right": null,
      "top": null,
      "visibility": null,
      "width": null
     }
    }
   }
  }
 },
 "nbformat": 4,
 "nbformat_minor": 0
}