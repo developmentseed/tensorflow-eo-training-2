{
 "cells": [
  {
   "attachments": {},
   "cell_type": "markdown",
   "metadata": {},
   "source": [
    "# Introduction to TensorFlow 2.x and Keras"
   ]
  },
  {
   "attachments": {},
   "cell_type": "markdown",
   "metadata": {},
   "source": [
    "## Objectives"
   ]
  },
  {
   "attachments": {},
   "cell_type": "markdown",
   "metadata": {},
   "source": [
    "The goal of this notebook is to teach some basics of the TensorFlow framework and the Keras API. "
   ]
  },
  {
   "attachments": {},
   "cell_type": "markdown",
   "metadata": {},
   "source": [
    "### What is TensorFlow?\n",
    "\n",
    "[TensorFlow](https://www.tensorflow.org/guide]) is an open-source framework developed in late 2015 by Google for building various machine learning and deep learning models. TensorFlow is free and open-source, thanks to the Apache Open Source license.\n",
    "\n",
    "The main objective of using TensorFlow is to reduce the complexity of implementing computations on large numerical data sets. In practice, these large computations can manifest as training and inference with machine learning or deep learning models.\n",
    "\n",
    "TensorFlow was designed to operate with multiple CPUs or GPUs, as well as a growing number of mobile operating systems. The framework includes wrappers in Python, C++, and Java.\n",
    "\n",
    "#### How does it work?\n",
    "TensorFlow accepts inputs as a multi-dimensional array called a Tensor, which allows the programmer to create dataflow graphs, sequences and structures specifying how data travels through. The framework was initially designed to support creation of a flowchart of operations to be applied to input Tensors, which travel in one direction and out the other. Importantly, TensorFlow 2.0 introduced eager execution to the framework. Eager execution is based on the immediate evaluation of operations, as opposed to graph mode, in which operations are chained together and outputs are produced only when an input is passed through the whole graph. Thus, eager execution allows intermediate values to be returned from sequential operations. Stated otherwise, with eager execution, the values of tensors are calculated as they occur in your code.\n",
    "\n",
    "It does not build graphs, and the operations return actual values instead of computational graphs to run later. With Eager execution, TensorFlow calculates the values of tensors wherever they occur in a program. One benefit of eager execution is simplified debugging, as errors are easy to isolate when breaking down a program into executable components. Secondly, eager execution reduces boilerplate code as functions themselves are immediately callable and don’t have to be instantiated by sessions first. The third benefit worth mentioning is that eager execution is especially useful for rapid research and experimentation, as it allows for easy swapping of components without having to rewrite the entire graph.\n",
    "\n",
    "\n",
    "#### TensorFlow's structure\n",
    "There are five main components to TensorFlow's structure.\n",
    "\n",
    "1. preprocessing the data\n",
    "2. building the model\n",
    "3. training and estimating the model\n",
    "4. evaluating the model\n",
    "5. serving / distributing the model\n",
    "\n",
    "The name Tensorflow derives from the way in which the framework receives input in the form of a multi-dimensional array, i.e. the tensors. These tensors travel sequentially through the operations, producing intermediate and output tensors.\n",
    "\n",
    "Outside of these five aforementioned components, there is a plethora of utilities and extensions that enrich the TensorFlow ecosystem. Some noteworthy mentions include [TensorBoard](https://www.tensorflow.org/tensorboard) for model visualition and metrics logging, [TensorFlow Serving](https://www.tensorflow.org/tfx/guide/serving) for model deployment and [TensorFlow Datasets](https://www.tensorflow.org/datasets) which provides a catolog of pre-built datasets ready for machine learning.\n",
    "\n",
    "#### What are the key TensorFlow components?\n",
    "**Tensor**\n",
    "\n",
    "A tensor is an n-dimensional vector or matrix. In theory, a tensor may represent any form of data. The values belonging to a tensor all share the same data type and often the same shape / dimensionality. A tensor can describe the input data and the output of a calculation. The main difference between a tensor and a conventional n-dimensional array is that tensors are immutable. \n",
    "\n",
    "<img src=\"images/tensor.png\" width=\"650px\">\n",
    "\n",
    "[Image source](https://www.simplilearn.com/tutorials/deep-learning-tutorial/tensorflow-2#:~:text=TensorFlow%202.0%20works%20efficiently%20with,TensorBoard%20to%20visualize%20the%20model.)\n",
    "\n",
    "\n",
    "**Data flows**\n",
    "\n",
    "TensorFlow leverages data flows to guide tensors throughout operations. These data flows are executed by linking tensors together, and they can be sequential or not.\n",
    "\n",
    "More specifically, for each tensor, there is a node and an edge. The node carries out the mathematical process and produces endpoint outputs (a new tensor). The input/output connections (i.e. the connections between layers) are represented by the edges.\n",
    "\n",
    "Nodes are linked together, so the data flow itself is a depiction of the operations and relationships that exist between the layers.\n",
    "\n",
    "In TensorFlow, all operations exist in the context of this paradigm.\n",
    "\n",
    "#### Why do so many people like TensorFlow?\n",
    "TensorFlow is intentionally user-friendly (especially since the integration of the Keras API), with helpful plugins to visualize model training and a useful software debugging tool. As well, TensorFlow is highly scalable, with easy deployment on both CPUs and GPUs."
   ]
  },
  {
   "attachments": {},
   "cell_type": "markdown",
   "metadata": {},
   "source": [
    "### What is Keras?\n",
    "\n",
    "[Keras](https://keras.io/about/) is an API built on Python which reduces the cognitive load associated with programming models through human readability and simple and consistent structures.\n",
    "\n",
    "Keras is what some might call a wrapper for TensorFlow. It is intended for rapid experimentation. Starting with TensorFlow 2.0, the Keras API was directly built into the TensorFlow framework (`tf.keras`) and henceforth recommended as the main interface for deep learning model development with the TensorFlow. This integration was originally distinct from the original Keras API, which was relatively framework-agnostic. In the `tf.keras` API, Keras abstraction is built directly upon TensorFlow low level protocols. Now, however, the distinction is relatively devoid of meaning as the Keras logic has been largely subsumed by a TensorFlow userbase.\n",
    "\n",
    "With `tf.keras`, we can address all components of a machine learning life cycle. This includes, model definition (archtitecture selection, network topology, activation function), model compilation (loss function, optimization function), model fitting a.k.a. training or estimation (set number of epochs, batch size), model evaluation (evaluation metric), model prediction (class label, numerical value, probability depening on domain).\n",
    "\n",
    "Tha main components of Keras include:\n",
    "1. A models API, which enables one to construct a model with varying levels of complexity depending on use case. We will use the [Sequential API](https://www.tensorflow.org/guide/keras/sequential_model) and the [Functional API](https://www.tensorflow.org/guide/keras/functional_api) subclass.\n",
    "2. A layers API, which allows one to define the tensor in/tensor out computation functions and network topology.\n",
    "3. A callback API, which enables one to program specific actions to occur during training, such as log training metrics, visualize interim/internal states and statistics of the model during training, and perform early stopping when the model converges.\n",
    "4. A data preprocessing API, which offers support for prepping raw data from disk to model ready Tensor format.\n",
    "5. An optimizer API where all of the state of the art optimizers can be plugged in. Learning rate decay / scheduling can also be implemented as part of this API.\n",
    "6. A metrics API which is used for assessing the performance of the model during training. A metric is the target to optimize during training, with specific metrics chosen for specific modeling objectives.\n",
    "7. A loss API that informs the model quantitatively how much it should try to minimize during training by providing a measure of error. Similar to metrics, specific loss functions are selected for specific modeling objectives.\n",
    "\n",
    "With the Functional API, our main workflow will follow the diagram below.\n",
    "\n",
    ":::{figure-md} Keras-fig\n",
    "<img src=\"images/Keras_functional_API.jpg\" width=\"650px\">\n",
    "\n",
    "Keras Functional API diagram (from [https://miro.com/app/board/o9J_lhnKhVE=/](hhttps://miro.com/app/board/o9J_lhnKhVE=/)).\n",
    ":::\n",
    "\n",
    "The main difference between the Sequential and Functional APIs for model definition are that the latter, albeit more complex, supports multiple input and output paths (e.g. a scalar and a matrix) as it requires explicit connection of layers together (i.e. if the input to layer `x` is layer `y` then that must be defined). The Sequential API in comparison assumes linear interaction between the stacked layers and thus that they all build from the initial input.\n",
    "\n",
    "### User notes\n",
    "\n",
    "- TensorFlow 2.x should be installed with a Python version no older than 3.6.\n"
   ]
  }
 ],
 "metadata": {
  "kernelspec": {
   "display_name": "Python 3",
   "language": "python",
   "name": "python3"
  },
  "language_info": {
   "codemirror_mode": {
    "name": "ipython",
    "version": 3
   },
   "file_extension": ".py",
   "mimetype": "text/x-python",
   "name": "python",
   "nbconvert_exporter": "python",
   "pygments_lexer": "ipython3",
   "version": "3.8.11"
  }
 },
 "nbformat": 4,
 "nbformat_minor": 2
}