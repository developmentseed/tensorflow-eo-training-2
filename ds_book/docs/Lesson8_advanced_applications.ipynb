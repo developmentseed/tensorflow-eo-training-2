{
  "cells": [
    {
      "cell_type": "markdown",
      "metadata": {
        "id": "yl_5Jv9Xr10t"
      },
      "source": [
        "# TensorFlow advanced applications with deep learning object detection, regression, time-series analysis, hyper-parameter tuning"
      ]
    },
    {
      "cell_type": "markdown",
      "metadata": {
        "id": "qx-HvbTNr10w"
      },
      "source": [
        "## Objectives"
      ]
    },
    {
      "cell_type": "markdown",
      "metadata": {
        "id": "8aCvX-Urr10x"
      },
      "source": [
        "- Understand the limits of deep learning models built to work with 3D imagery and variants that have been developed for 4D time series\n",
        "- Understand theory, use cases, and architecture options for time series modeling and change detection\n",
        "\n",
        "\n",
        "- Understand difference between semantic segmentation and object detection, labeling and modeling challenges with each approach\n",
        "- Cover R-CNN family, Yolo object detection families of architectures.\n",
        "- Understand theory, use cases, and architecture options for regression\n",
        "- Understand when to hyperparameter tune, and the pros/cons of different approaches."
      ]
    },
    {
      "cell_type": "markdown",
      "metadata": {},
      "source": [
        "### Semantic Segmentation with U-Net\n",
        "\n",
        "In Lesson 1a Introduction to ML Neural Networks and Deep Learning, we introduced the U-Net architecture, a popular architecture in remote sensing. U-Net has been on eof the most popular architectures for segmentation fo remote sensing images because\n",
        "\n",
        "1. Since it is fully convolutional, it requires fewer parameters to train than models with multiple heads (R-CNNs) or models with many fully connected layers.\n",
        "2. U-Net's encoder-decoder architecture learns powerful features across many spatial scales, which is very relevant for very high resolution, large satellite images\n",
        "3. \n",
        "\n",
        "\n",
        "https://developmentseed.org/blog/2022-12-13-segmenting-supraglacial-lakes\n",
        "\n",
        "3D Unet doesn’t account for teleconnections. Memory effects from drought from last year. \n",
        "\n",
        "4D Unet possible\n",
        "\n",
        "SCCANet Spatial and Spectral Channel Attention Network. Basically still a Unet\n",
        "\n"
      ]
    },
    {
      "cell_type": "markdown",
      "metadata": {},
      "source": [
        "### Object Detection and Instance Segmentation: Counting and mapping extent of instances\n",
        "\n",
        "* Yolo-V5 for wildlife detection, object detection\n",
        "* Mask R-CNN and R-CNN family for object detection and instance segmentation."
      ]
    },
    {
      "cell_type": "markdown",
      "metadata": {},
      "source": [
        "### Time series and change detection"
      ]
    },
    {
      "cell_type": "markdown",
      "metadata": {},
      "source": [
        "\n",
        "tinyCD - change detection of fires with mixingmaskattention: https://github.com/developmentseed/chabud2023/blob/main/chabud/tinycd_model.py\n",
        "\n",
        "Presto - \n",
        "\n",
        "Operates on pixel time series of multi sensors, multi channel\n",
        "Channel group embedding, positional, embedding for lagoon, and month embedding\n",
        "Somewhat marginal but clear improvement over other approach (also time series approach)\n",
        "Geographic representation across hemispheres and ecoregion\n",
        "Used dynamic world as an input and to stratify\n",
        "Presto can be used as feature extractor (for random forest and regression) or fine-tuning the encoder and linear transformation\n",
        "Main comparison is to Task Informed Meta Learning\n",
        "Presto is fully self supervised, computationally more efficient than image based approaches\n",
        "Also beats SatMAE\n",
        "Also tested fully supervised presto to measure effect of arch vs the self supervision training regime\n",
        "Didn’t really understand all presto tables, especially table 6\n",
        "Self supervised presto beats fully supervised presto for particular tasks\n",
        "\n",
        "Spatio-temporal transformer STT\n",
        "\n",
        "ConvLSTM: Effective for time series data in computer vision. Knowledge Distillation: Teacher-student networks where the student (smaller) network tries to imitate the teacher (larger) network. SCCANet (Spatial and Spectral Channel Attention Network): An evolved form of U-Net with attention mechanisms. Stacked AutoEncoder (SAM?): Focuses on lossless compression. Comparison with PCA and deep autoencoders. Introduction of Variational autoencoders. RaVAEn: Unsupervised learning for change detection. Image Retrieval: Using vector databases for similarity computations. Image Captioning: [Insert: Brief Explanation and Examples]\n",
        "\n",
        "Firecube: A daily data cube for the modeling and analysis of wildfires in Greece. Dataset is on zenodo\n",
        "\n",
        "Model types Pixel-wise = RF, XGBOOST Temporal pixel-wise: LSTM Spatiotemporal: ConvLSTM\n",
        "\n",
        "Showed convlstm does best, better than xgboost!\n",
        "\n",
        "\n",
        "M2-CDNET "
      ]
    }
  ],
  "metadata": {
    "colab": {
      "collapsed_sections": [],
      "name": "Copy of Lesson1a_Intro_ML_NN_DL.ipynb",
      "provenance": []
    },
    "kernelspec": {
      "display_name": "Python 3",
      "language": "python",
      "name": "python3"
    },
    "language_info": {
      "codemirror_mode": {
        "name": "ipython",
        "version": 3
      },
      "file_extension": ".py",
      "mimetype": "text/x-python",
      "name": "python",
      "nbconvert_exporter": "python",
      "pygments_lexer": "ipython3",
      "version": "3.8.11"
    }
  },
  "nbformat": 4,
  "nbformat_minor": 0
}
