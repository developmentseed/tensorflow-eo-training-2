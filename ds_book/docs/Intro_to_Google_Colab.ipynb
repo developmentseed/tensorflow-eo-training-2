{
  "cells": [
    {
      "attachments": {},
      "cell_type": "markdown",
      "metadata": {},
      "source": [
        "# Introduction to Google Colab\n",
        "\n",
        "Here we will cover the main components of Google Colab as they relate to this training session. You can learn more by visiting https://colab.research.google.com/notebooks/basic_features_overview.ipynb."
      ]
    },
    {
      "attachments": {},
      "cell_type": "markdown",
      "metadata": {
        "id": "JyG45Qk3qQLS"
      },
      "source": [
        "# Cells\n",
        "Google Colab is built upon [Jupyter notebooks](https://jupyter-notebook-beginner-guide.readthedocs.io/en/latest/what_is_jupyter.html) and comes packaged with a lot of built in Python syntax. This is a notebook, which in and of itself is a set of cells. Any given cell will contain either explanatory text or executable code.\n",
        "\n",
        "To ensure the notebook is connected to a runtime, click `Connect` in the upper righthand corner of the notebook. You can switch the runtime type (e.g. to use TPU) by right clicking again and selecting `View resources` then in the pane, choosing `Change runtime type`."
      ]
    },
    {
      "attachments": {},
      "cell_type": "markdown",
      "metadata": {
        "id": "KR921S_OQSHG"
      },
      "source": [
        "## Code cells\n",
        "\n",
        "It is best practice to break down a body of code into bite size pieces. For example, a function should reside in its own cell, as should a list of imports. This helps ensure readability and error isolation. It also helps build in modularity to our code. We can more easily swap methods when it is broken down into key components.\n",
        "\n",
        "Below is a **code cell** that contains a list of a few imports. Select the cell and execute the content in the it by clicking the **Play icon** in the left of the cell.\n",
        "\n",
        "See the **Runtime** menu for additional options to run some or all cells."
      ]
    },
    {
      "cell_type": "code",
      "execution_count": null,
      "metadata": {
        "cellView": "both",
        "colab": {
          "height": 35
        },
        "id": "WUtu4316QSHL",
        "outputId": "67bdf0c3-d76f-4226-fc34-a2f2d0eba60b"
      },
      "outputs": [],
      "source": [
        "import numpy as np\n",
        "import matplotlib.pyplot as plt"
      ]
    },
    {
      "attachments": {},
      "cell_type": "markdown",
      "metadata": {
        "id": "Id6tDF1HQSHD"
      },
      "source": [
        "## Text cells\n",
        "Just as we break down a cody of code into bite size peices, we decorate the code with explanatory **text cells**, such as this one. This cell can be edited by **double-clicking** on it. We use markdown syntax in text cells. To learn more about markdown, see this [guide](/notebooks/markdown_guide.ipynb).\n",
        "\n",
        "Text cells are useful for explaining the context or rationale for an adjacent code cell. We can use them to guide usage, reference sources, suggest alternatives and/or flag certain scenarios such as \"the next cell contains long-running code.\" \n"
      ]
    },
    {
      "attachments": {},
      "cell_type": "markdown",
      "metadata": {
        "id": "Wej_mEyXQSHc"
      },
      "source": [
        "## System aliases\n",
        "\n",
        "Jupyter includes command-line style shortcuts for common operations, such as ls:"
      ]
    },
    {
      "cell_type": "code",
      "execution_count": null,
      "metadata": {
        "cellView": "both",
        "colab": {
          "height": 323
        },
        "id": "5OCYEvK5QSHf",
        "outputId": "2ee8ae66-72ed-425c-e20b-bc5ac307ef3e"
      },
      "outputs": [],
      "source": [
        "!ls"
      ]
    },
    {
      "attachments": {},
      "cell_type": "markdown",
      "metadata": {
        "id": "y8Da6JWKQSHh"
      },
      "source": [
        "That `!ls` listed the contents of the current working directory. To clear the output produced by the cell, either:\n",
        "\n",
        "1. Click on the (x) in the left of the cell output; or\n",
        "2. Right click on output and select \"Clear output\" from the menu.\n",
        "\n",
        "Execute processes such as this using `!`."
      ]
    },
    {
      "attachments": {},
      "cell_type": "markdown",
      "metadata": {
        "id": "d4L9TOP9QSHn"
      },
      "source": [
        "## Automatic completions and exploring code\n",
        "\n",
        "Colab provides automatic completions which help us unpack and discover attributes of Python objects. They also are useful for accessing documentation strings. As an example, let's take a look at the attributes of the [`numpy`](http://www.numpy.org) module."
      ]
    },
    {
      "attachments": {},
      "cell_type": "markdown",
      "metadata": {
        "id": "1M890-bXeyYp"
      },
      "source": [
        "We imported `numpy` earlier so now, so now we can obtain available methods (which can be auto-completed) by typing **Period**(`.`) after `np`. "
      ]
    },
    {
      "cell_type": "code",
      "execution_count": null,
      "metadata": {
        "cellView": "both",
        "id": "j6QRIfUHQSHq"
      },
      "outputs": [],
      "source": [
        "np"
      ]
    },
    {
      "attachments": {},
      "cell_type": "markdown",
      "metadata": {
        "id": "g6MfomFhQSHs"
      },
      "source": [
        "To see a documentation string, you can type an open parenthesis after a method of the module. Note that you can get a perisstent view of the documentation string by hovering over the method name and selecting the `Open in tab` link. Similarly, we can access the source code for the method by clicking the `View source` link."
      ]
    },
    {
      "cell_type": "code",
      "execution_count": null,
      "metadata": {
        "cellView": "both",
        "id": "SD0XnrVhQSHt"
      },
      "outputs": [],
      "source": [
        "np.ndarray"
      ]
    },
    {
      "attachments": {},
      "cell_type": "markdown",
      "metadata": {
        "id": "7cRnhv_7N4Pa"
      },
      "source": [
        "## Rich, interactive outputs\n",
        "We can generate types of output other than simple alphanumeric. Take for example an interactive map."
      ]
    },
    {
      "cell_type": "code",
      "execution_count": null,
      "metadata": {},
      "outputs": [],
      "source": [
        "from folium import Map, GeoJson, Figure"
      ]
    },
    {
      "cell_type": "code",
      "execution_count": null,
      "metadata": {
        "colab": {
          "height": 371
        },
        "id": "JVXnTqyE9RET",
        "outputId": "a20709c6-9773-49e9-bc49-1e8468ea990b"
      },
      "outputs": [],
      "source": [
        "m = Map(tiles=\"Stamen Terrain\",\n",
        "        control_scale=True,\n",
        "        location = [-77.042755, -12.046329], # Lima, Peru\n",
        "        zoom_start = 10,\n",
        "        max_zoom = 20,\n",
        "        min_zoom =6,\n",
        "        width = '100%',\n",
        "        height = '100%',\n",
        "        zoom_control=False )\n",
        "GeoJson(gdf).add_to(m)\n",
        "Figure(width=500, height=300).add_child(m)"
      ]
    },
    {
      "attachments": {},
      "cell_type": "markdown",
      "metadata": {
        "id": "aro-UJgUQSH1"
      },
      "source": [
        "# Integration with Drive\n",
        "\n",
        "In colab, we can host data natively on Google Drive and read from it in a file system style after mounting the Drive volume. "
      ]
    },
    {
      "cell_type": "code",
      "execution_count": null,
      "metadata": {},
      "outputs": [],
      "source": [
        "if 'google.colab' in str(get_ipython()):\n",
        "    # mount google drive\n",
        "    from google.colab import drive\n",
        "    drive.mount('/content/gdrive')"
      ]
    },
    {
      "attachments": {},
      "cell_type": "markdown",
      "metadata": {},
      "source": [
        "We can also share the same notebook or dataset with multiple people:\n",
        "\n",
        "* Share the notebook and control permissions using the **SHARE** button (top-right of the toolbar).\n",
        "\n",
        "* Create a copy of the notebook in Drive using **File->Make a Copy**.\n",
        "\n",
        "When sharing a dataset, the receiver can make it readable on their file system by creating a shortcut to their own drive. This can be done by right clicking on the folder or dataset item and clicking `Add Shortcut to Drive` and selecting an appropriate destination unique to their own Drive file system."
      ]
    }
  ],
  "metadata": {
    "colab": {
      "name": "Overview of Colaboratory Features",
      "provenance": [],
      "toc_visible": true
    },
    "kernelspec": {
      "display_name": "Python 3",
      "name": "python3"
    }
  },
  "nbformat": 4,
  "nbformat_minor": 0
}
